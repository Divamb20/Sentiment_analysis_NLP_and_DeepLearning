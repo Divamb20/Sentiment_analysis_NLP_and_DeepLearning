{
 "cells": [
  {
   "cell_type": "code",
   "execution_count": 1,
   "id": "24e76564",
   "metadata": {},
   "outputs": [],
   "source": [
    "import pandas as pd"
   ]
  },
  {
   "cell_type": "code",
   "execution_count": 2,
   "id": "c3e66958",
   "metadata": {},
   "outputs": [
    {
     "data": {
      "text/html": [
       "<div>\n",
       "<style scoped>\n",
       "    .dataframe tbody tr th:only-of-type {\n",
       "        vertical-align: middle;\n",
       "    }\n",
       "\n",
       "    .dataframe tbody tr th {\n",
       "        vertical-align: top;\n",
       "    }\n",
       "\n",
       "    .dataframe thead th {\n",
       "        text-align: right;\n",
       "    }\n",
       "</style>\n",
       "<table border=\"1\" class=\"dataframe\">\n",
       "  <thead>\n",
       "    <tr style=\"text-align: right;\">\n",
       "      <th></th>\n",
       "      <th>id</th>\n",
       "      <th>label</th>\n",
       "      <th>tweet</th>\n",
       "    </tr>\n",
       "  </thead>\n",
       "  <tbody>\n",
       "    <tr>\n",
       "      <th>0</th>\n",
       "      <td>1</td>\n",
       "      <td>0</td>\n",
       "      <td>#fingerprint #Pregnancy Test https://goo.gl/h1...</td>\n",
       "    </tr>\n",
       "    <tr>\n",
       "      <th>1</th>\n",
       "      <td>2</td>\n",
       "      <td>0</td>\n",
       "      <td>Finally a transparant silicon case ^^ Thanks t...</td>\n",
       "    </tr>\n",
       "    <tr>\n",
       "      <th>2</th>\n",
       "      <td>3</td>\n",
       "      <td>0</td>\n",
       "      <td>We love this! Would you go? #talk #makememorie...</td>\n",
       "    </tr>\n",
       "    <tr>\n",
       "      <th>3</th>\n",
       "      <td>4</td>\n",
       "      <td>0</td>\n",
       "      <td>I'm wired I know I'm George I was made that wa...</td>\n",
       "    </tr>\n",
       "    <tr>\n",
       "      <th>4</th>\n",
       "      <td>5</td>\n",
       "      <td>1</td>\n",
       "      <td>What amazing service! Apple won't even talk to...</td>\n",
       "    </tr>\n",
       "  </tbody>\n",
       "</table>\n",
       "</div>"
      ],
      "text/plain": [
       "   id  label                                              tweet\n",
       "0   1      0  #fingerprint #Pregnancy Test https://goo.gl/h1...\n",
       "1   2      0  Finally a transparant silicon case ^^ Thanks t...\n",
       "2   3      0  We love this! Would you go? #talk #makememorie...\n",
       "3   4      0  I'm wired I know I'm George I was made that wa...\n",
       "4   5      1  What amazing service! Apple won't even talk to..."
      ]
     },
     "execution_count": 2,
     "metadata": {},
     "output_type": "execute_result"
    }
   ],
   "source": [
    "df = pd.read_csv('tweets.csv')\n",
    "df.head()"
   ]
  },
  {
   "cell_type": "code",
   "execution_count": 3,
   "id": "27ec3809",
   "metadata": {},
   "outputs": [
    {
     "data": {
      "text/html": [
       "<div>\n",
       "<style scoped>\n",
       "    .dataframe tbody tr th:only-of-type {\n",
       "        vertical-align: middle;\n",
       "    }\n",
       "\n",
       "    .dataframe tbody tr th {\n",
       "        vertical-align: top;\n",
       "    }\n",
       "\n",
       "    .dataframe thead th {\n",
       "        text-align: right;\n",
       "    }\n",
       "</style>\n",
       "<table border=\"1\" class=\"dataframe\">\n",
       "  <thead>\n",
       "    <tr style=\"text-align: right;\">\n",
       "      <th></th>\n",
       "      <th>id</th>\n",
       "      <th>label</th>\n",
       "    </tr>\n",
       "  </thead>\n",
       "  <tbody>\n",
       "    <tr>\n",
       "      <th>count</th>\n",
       "      <td>7920.000000</td>\n",
       "      <td>7920.000000</td>\n",
       "    </tr>\n",
       "    <tr>\n",
       "      <th>mean</th>\n",
       "      <td>3960.500000</td>\n",
       "      <td>0.255808</td>\n",
       "    </tr>\n",
       "    <tr>\n",
       "      <th>std</th>\n",
       "      <td>2286.451399</td>\n",
       "      <td>0.436342</td>\n",
       "    </tr>\n",
       "    <tr>\n",
       "      <th>min</th>\n",
       "      <td>1.000000</td>\n",
       "      <td>0.000000</td>\n",
       "    </tr>\n",
       "    <tr>\n",
       "      <th>25%</th>\n",
       "      <td>1980.750000</td>\n",
       "      <td>0.000000</td>\n",
       "    </tr>\n",
       "    <tr>\n",
       "      <th>50%</th>\n",
       "      <td>3960.500000</td>\n",
       "      <td>0.000000</td>\n",
       "    </tr>\n",
       "    <tr>\n",
       "      <th>75%</th>\n",
       "      <td>5940.250000</td>\n",
       "      <td>1.000000</td>\n",
       "    </tr>\n",
       "    <tr>\n",
       "      <th>max</th>\n",
       "      <td>7920.000000</td>\n",
       "      <td>1.000000</td>\n",
       "    </tr>\n",
       "  </tbody>\n",
       "</table>\n",
       "</div>"
      ],
      "text/plain": [
       "                id        label\n",
       "count  7920.000000  7920.000000\n",
       "mean   3960.500000     0.255808\n",
       "std    2286.451399     0.436342\n",
       "min       1.000000     0.000000\n",
       "25%    1980.750000     0.000000\n",
       "50%    3960.500000     0.000000\n",
       "75%    5940.250000     1.000000\n",
       "max    7920.000000     1.000000"
      ]
     },
     "execution_count": 3,
     "metadata": {},
     "output_type": "execute_result"
    }
   ],
   "source": [
    "df.describe()"
   ]
  },
  {
   "cell_type": "code",
   "execution_count": 4,
   "id": "39c8df0a",
   "metadata": {},
   "outputs": [
    {
     "name": "stdout",
     "output_type": "stream",
     "text": [
      "<class 'pandas.core.frame.DataFrame'>\n",
      "RangeIndex: 7920 entries, 0 to 7919\n",
      "Data columns (total 3 columns):\n",
      " #   Column  Non-Null Count  Dtype \n",
      "---  ------  --------------  ----- \n",
      " 0   id      7920 non-null   int64 \n",
      " 1   label   7920 non-null   int64 \n",
      " 2   tweet   7920 non-null   object\n",
      "dtypes: int64(2), object(1)\n",
      "memory usage: 185.8+ KB\n"
     ]
    }
   ],
   "source": [
    "df.info()"
   ]
  },
  {
   "cell_type": "code",
   "execution_count": 5,
   "id": "6488eec3",
   "metadata": {},
   "outputs": [
    {
     "data": {
      "text/plain": [
       "id       0\n",
       "label    0\n",
       "tweet    0\n",
       "dtype: int64"
      ]
     },
     "execution_count": 5,
     "metadata": {},
     "output_type": "execute_result"
    }
   ],
   "source": [
    "df.isnull().sum()"
   ]
  },
  {
   "cell_type": "code",
   "execution_count": 6,
   "id": "42af0234",
   "metadata": {},
   "outputs": [
    {
     "data": {
      "text/plain": [
       "0    5894\n",
       "1    2026\n",
       "Name: label, dtype: int64"
      ]
     },
     "execution_count": 6,
     "metadata": {},
     "output_type": "execute_result"
    }
   ],
   "source": [
    "df.label.value_counts()"
   ]
  },
  {
   "cell_type": "code",
   "execution_count": 7,
   "id": "11303d85",
   "metadata": {},
   "outputs": [],
   "source": [
    "## not a big class imbalance so it can be worked upon"
   ]
  },
  {
   "cell_type": "code",
   "execution_count": 8,
   "id": "cec41b8c",
   "metadata": {},
   "outputs": [],
   "source": [
    "# importing regular expression module and working on the first dataset \n",
    "import re"
   ]
  },
  {
   "cell_type": "code",
   "execution_count": 9,
   "id": "a1afb98f",
   "metadata": {},
   "outputs": [
    {
     "data": {
      "text/plain": [
       "'#fingerprint #Pregnancy Test https://goo.gl/h1MfQV #android #apps #beautiful #cute #health #igers #iphoneonly #iphonesia #iphone'"
      ]
     },
     "execution_count": 9,
     "metadata": {},
     "output_type": "execute_result"
    }
   ],
   "source": [
    "df.tweet[0]"
   ]
  },
  {
   "cell_type": "code",
   "execution_count": 10,
   "id": "511a2368",
   "metadata": {},
   "outputs": [
    {
     "data": {
      "text/plain": [
       "'#fingerprint #Pregnancy Test https://goo.gl/h1MfQV #android #apps #beautiful #cute #health #igers #iphoneonly #iphonesia #iphone'"
      ]
     },
     "execution_count": 10,
     "metadata": {},
     "output_type": "execute_result"
    }
   ],
   "source": [
    "re.sub(\"@[A-Za-z0-9]+\", \"\", df['tweet'][0])"
   ]
  },
  {
   "cell_type": "code",
   "execution_count": 11,
   "id": "d6a8a90b",
   "metadata": {},
   "outputs": [
    {
     "data": {
      "text/plain": [
       "'fingerprint Pregnancy Test https://goo.gl/h1MfQV android apps beautiful cute health igers iphoneonly iphonesia iphone'"
      ]
     },
     "execution_count": 11,
     "metadata": {},
     "output_type": "execute_result"
    }
   ],
   "source": [
    "#removing hashtags\n",
    "re.sub(\"#\", \"\", df['tweet'][0])"
   ]
  },
  {
   "cell_type": "code",
   "execution_count": 12,
   "id": "58ca4084",
   "metadata": {},
   "outputs": [
    {
     "data": {
      "text/plain": [
       "'#fingerprint #Pregnancy Test  #android #apps #beautiful #cute #health #igers #iphoneonly #iphonesia #iphone'"
      ]
     },
     "execution_count": 12,
     "metadata": {},
     "output_type": "execute_result"
    }
   ],
   "source": [
    "#removing hyperlinks\n",
    "re.sub(r\"http\\S+\", \"\", df['tweet'][0])"
   ]
  },
  {
   "cell_type": "code",
   "execution_count": 13,
   "id": "0bf930fa",
   "metadata": {},
   "outputs": [
    {
     "data": {
      "text/plain": [
       "' fingerprint  Pregnancy Test https   goo gl h MfQV  android  apps  beautiful  cute  health  igers  iphoneonly  iphonesia  iphone'"
      ]
     },
     "execution_count": 13,
     "metadata": {},
     "output_type": "execute_result"
    }
   ],
   "source": [
    "#removing special characters\n",
    "re.sub(r\"[^a-zA-Z]\", \" \", df['tweet'][0])"
   ]
  },
  {
   "cell_type": "code",
   "execution_count": 14,
   "id": "fa280d93",
   "metadata": {},
   "outputs": [
    {
     "name": "stderr",
     "output_type": "stream",
     "text": [
      "[nltk_data] Downloading package stopwords to\n",
      "[nltk_data]     /Users/divambadaya/nltk_data...\n",
      "[nltk_data]   Package stopwords is already up-to-date!\n"
     ]
    },
    {
     "data": {
      "text/plain": [
       "True"
      ]
     },
     "execution_count": 14,
     "metadata": {},
     "output_type": "execute_result"
    }
   ],
   "source": [
    "#import stopwords\n",
    "import nltk\n",
    "from nltk.corpus import stopwords\n",
    "nltk.download('stopwords')"
   ]
  },
  {
   "cell_type": "code",
   "execution_count": 15,
   "id": "2e87a2a4",
   "metadata": {},
   "outputs": [
    {
     "data": {
      "text/plain": [
       "179"
      ]
     },
     "execution_count": 15,
     "metadata": {},
     "output_type": "execute_result"
    }
   ],
   "source": [
    "s_word = set(stopwords.words('english'))\n",
    "len(s_word)"
   ]
  },
  {
   "cell_type": "code",
   "execution_count": 16,
   "id": "fff50f0c",
   "metadata": {},
   "outputs": [
    {
     "name": "stderr",
     "output_type": "stream",
     "text": [
      "[nltk_data] Downloading package wordnet to\n",
      "[nltk_data]     /Users/divambadaya/nltk_data...\n",
      "[nltk_data]   Package wordnet is already up-to-date!\n",
      "[nltk_data] Downloading package omw-1.4 to\n",
      "[nltk_data]     /Users/divambadaya/nltk_data...\n",
      "[nltk_data]   Package omw-1.4 is already up-to-date!\n"
     ]
    }
   ],
   "source": [
    "#stemming and lemitaization\n",
    "from nltk.stem import WordNetLemmatizer\n",
    "nltk.download(\"wordnet\")\n",
    "nltk.download(\"omw-1.4\")\n",
    "lemma = WordNetLemmatizer()"
   ]
  },
  {
   "cell_type": "code",
   "execution_count": 17,
   "id": "6177a20d",
   "metadata": {},
   "outputs": [
    {
     "data": {
      "text/plain": [
       "['#fingerprint',\n",
       " '#Pregnancy',\n",
       " 'Test',\n",
       " 'https://goo.gl/h1MfQV',\n",
       " '#android',\n",
       " '#apps',\n",
       " '#beautiful',\n",
       " '#cute',\n",
       " '#health',\n",
       " '#igers',\n",
       " '#iphoneonly',\n",
       " '#iphonesia',\n",
       " '#iphone']"
      ]
     },
     "execution_count": 17,
     "metadata": {},
     "output_type": "execute_result"
    }
   ],
   "source": [
    "df.tweet[0].split()"
   ]
  },
  {
   "cell_type": "code",
   "execution_count": 18,
   "id": "4153ad53",
   "metadata": {},
   "outputs": [
    {
     "name": "stdout",
     "output_type": "stream",
     "text": [
      "Requirement already satisfied: contractions in ./anaconda3/lib/python3.10/site-packages (0.1.73)\r\n",
      "Requirement already satisfied: textsearch>=0.0.21 in ./anaconda3/lib/python3.10/site-packages (from contractions) (0.0.24)\r\n",
      "Requirement already satisfied: pyahocorasick in ./anaconda3/lib/python3.10/site-packages (from textsearch>=0.0.21->contractions) (2.0.0)\r\n",
      "Requirement already satisfied: anyascii in ./anaconda3/lib/python3.10/site-packages (from textsearch>=0.0.21->contractions) (0.3.2)\r\n"
     ]
    }
   ],
   "source": [
    "!pip install contractions"
   ]
  },
  {
   "cell_type": "code",
   "execution_count": 19,
   "id": "5d3e1577",
   "metadata": {},
   "outputs": [],
   "source": [
    "#now applying function for whole dataset\n",
    "import contractions\n",
    "def tweets_wo_s_words(text):\n",
    "    processed= re.sub(r\"'s\\b\", \" is\",text)\n",
    "    processed= re.sub(\"#\", \"\", processed)\n",
    "    processed= re.sub(\"@[A-Za-z0-9]+\", \"\", processed)\n",
    "    processed = re.sub(r\"http\\S+\", \"\", processed)\n",
    "    processed= contractions.fix(processed)    \n",
    "    processed= re.sub(r\"[^a-zA-Z]\", \" \", processed)    \n",
    "    processed= processed.lower().strip()\n",
    "    \n",
    "    cleaned = ''\n",
    "    for token in processed.split():\n",
    "        cleaned = cleaned + lemma.lemmatize(token) + ' '\n",
    "    \n",
    "    return cleaned"
   ]
  },
  {
   "cell_type": "code",
   "execution_count": 20,
   "id": "09a2708e",
   "metadata": {},
   "outputs": [],
   "source": [
    "cleaned = []  # list of cleaned tweets\n",
    "for txt in df.tweet:\n",
    "    cleaned.append(tweets_wo_s_words(txt))"
   ]
  },
  {
   "cell_type": "code",
   "execution_count": 21,
   "id": "006c65f1",
   "metadata": {},
   "outputs": [
    {
     "data": {
      "text/plain": [
       "['fingerprint pregnancy test android apps beautiful cute health igers iphoneonly iphonesia iphone ',\n",
       " 'finally a transparant silicon case thanks to my uncle yay sony xperia s sonyexperias ',\n",
       " 'we love this would you go talk makememories unplug relax iphone smartphone wifi connect ',\n",
       " 'i am wired i know i am george i wa made that way iphone cute daventry home ',\n",
       " 'what amazing service apple will not even talk to me about a question i have unless i pay them for their stupid support ']"
      ]
     },
     "execution_count": 21,
     "metadata": {},
     "output_type": "execute_result"
    }
   ],
   "source": [
    "cleaned[:5]"
   ]
  },
  {
   "cell_type": "code",
   "execution_count": 22,
   "id": "736d72de",
   "metadata": {},
   "outputs": [
    {
     "data": {
      "text/html": [
       "<div>\n",
       "<style scoped>\n",
       "    .dataframe tbody tr th:only-of-type {\n",
       "        vertical-align: middle;\n",
       "    }\n",
       "\n",
       "    .dataframe tbody tr th {\n",
       "        vertical-align: top;\n",
       "    }\n",
       "\n",
       "    .dataframe thead th {\n",
       "        text-align: right;\n",
       "    }\n",
       "</style>\n",
       "<table border=\"1\" class=\"dataframe\">\n",
       "  <thead>\n",
       "    <tr style=\"text-align: right;\">\n",
       "      <th></th>\n",
       "      <th>id</th>\n",
       "      <th>label</th>\n",
       "      <th>tweet</th>\n",
       "      <th>tweets_having_swords</th>\n",
       "    </tr>\n",
       "  </thead>\n",
       "  <tbody>\n",
       "    <tr>\n",
       "      <th>0</th>\n",
       "      <td>1</td>\n",
       "      <td>0</td>\n",
       "      <td>#fingerprint #Pregnancy Test https://goo.gl/h1...</td>\n",
       "      <td>fingerprint pregnancy test android apps beauti...</td>\n",
       "    </tr>\n",
       "    <tr>\n",
       "      <th>1</th>\n",
       "      <td>2</td>\n",
       "      <td>0</td>\n",
       "      <td>Finally a transparant silicon case ^^ Thanks t...</td>\n",
       "      <td>finally a transparant silicon case thanks to m...</td>\n",
       "    </tr>\n",
       "    <tr>\n",
       "      <th>2</th>\n",
       "      <td>3</td>\n",
       "      <td>0</td>\n",
       "      <td>We love this! Would you go? #talk #makememorie...</td>\n",
       "      <td>we love this would you go talk makememories un...</td>\n",
       "    </tr>\n",
       "    <tr>\n",
       "      <th>3</th>\n",
       "      <td>4</td>\n",
       "      <td>0</td>\n",
       "      <td>I'm wired I know I'm George I was made that wa...</td>\n",
       "      <td>i am wired i know i am george i wa made that w...</td>\n",
       "    </tr>\n",
       "    <tr>\n",
       "      <th>4</th>\n",
       "      <td>5</td>\n",
       "      <td>1</td>\n",
       "      <td>What amazing service! Apple won't even talk to...</td>\n",
       "      <td>what amazing service apple will not even talk ...</td>\n",
       "    </tr>\n",
       "  </tbody>\n",
       "</table>\n",
       "</div>"
      ],
      "text/plain": [
       "   id  label                                              tweet  \\\n",
       "0   1      0  #fingerprint #Pregnancy Test https://goo.gl/h1...   \n",
       "1   2      0  Finally a transparant silicon case ^^ Thanks t...   \n",
       "2   3      0  We love this! Would you go? #talk #makememorie...   \n",
       "3   4      0  I'm wired I know I'm George I was made that wa...   \n",
       "4   5      1  What amazing service! Apple won't even talk to...   \n",
       "\n",
       "                                tweets_having_swords  \n",
       "0  fingerprint pregnancy test android apps beauti...  \n",
       "1  finally a transparant silicon case thanks to m...  \n",
       "2  we love this would you go talk makememories un...  \n",
       "3  i am wired i know i am george i wa made that w...  \n",
       "4  what amazing service apple will not even talk ...  "
      ]
     },
     "execution_count": 22,
     "metadata": {},
     "output_type": "execute_result"
    }
   ],
   "source": [
    "df['tweets_having_swords']=cleaned\n",
    "df.head()"
   ]
  },
  {
   "cell_type": "code",
   "execution_count": 23,
   "id": "88adc561",
   "metadata": {},
   "outputs": [
    {
     "data": {
      "text/plain": [
       "'#Apple Bunch if Crooks Refused to repair/replace my beats wireless. Problem rubber on mic coming off microphones stopped working. Said warranty was void because ear piece looked chewed. Bullshit. I don’t have any animals and I would chew on anything I put in my ear. pic.twitter.com/GfgvquEpuC'"
      ]
     },
     "execution_count": 23,
     "metadata": {},
     "output_type": "execute_result"
    }
   ],
   "source": [
    "#lets compare 1500 dataset\n",
    "df['tweet'][1500]"
   ]
  },
  {
   "cell_type": "code",
   "execution_count": 24,
   "id": "afba61a8",
   "metadata": {},
   "outputs": [
    {
     "data": {
      "text/plain": [
       "'apple bunch if crook refused to repair replace my beat wireless problem rubber on mic coming off microphone stopped working said warranty wa void because ear piece looked chewed bullshit i do not have any animal and i would chew on anything i put in my ear pic twitter com gfgvquepuc '"
      ]
     },
     "execution_count": 24,
     "metadata": {},
     "output_type": "execute_result"
    }
   ],
   "source": [
    "df['tweets_having_swords'][1500]"
   ]
  },
  {
   "cell_type": "code",
   "execution_count": 25,
   "id": "38c2ee09",
   "metadata": {},
   "outputs": [
    {
     "name": "stdout",
     "output_type": "stream",
     "text": [
      "['#fingerprint', '#Pregnancy', 'Test', 'https://goo.gl/h1MfQV', '#android', '#apps', '#beautiful', '#cute', '#health', '#igers']\n"
     ]
    }
   ],
   "source": [
    "#now visualizing the data\n",
    "#we can plot top 10 most used words in the tweet dataset\n",
    "#so we can combine all of the tokens into a single list\n",
    "#first we will perform this on our original dataset then on the processed dataset\n",
    "all_words = []\n",
    "for txt in df['tweet']:\n",
    "    all_words.extend(txt.split())\n",
    "\n",
    "print(all_words[:10])"
   ]
  },
  {
   "cell_type": "code",
   "execution_count": 26,
   "id": "cd7f93c1",
   "metadata": {},
   "outputs": [
    {
     "data": {
      "text/plain": [
       "34348"
      ]
     },
     "execution_count": 26,
     "metadata": {},
     "output_type": "execute_result"
    }
   ],
   "source": [
    "len(set(all_words))"
   ]
  },
  {
   "cell_type": "code",
   "execution_count": 27,
   "id": "887f9f78",
   "metadata": {},
   "outputs": [
    {
     "data": {
      "image/png": "[encoded data removed]",
      "text/plain": [
       "<Figure size 600x400 with 1 Axes>"
      ]
     },
     "metadata": {},
     "output_type": "display_data"
    }
   ],
   "source": [
    "import matplotlib.pyplot as plt\n",
    "dist = nltk.FreqDist(all_words)\n",
    "\n",
    "plt.figure(figsize=(6,4))\n",
    "plt.title('Top 10 most common words')\n",
    "plt.xticks(fontsize=10)\n",
    "\n",
    "dist.plot(10, cumulative=False)\n",
    "\n",
    "plt.show()"
   ]
  },
  {
   "cell_type": "code",
   "execution_count": 28,
   "id": "d4f4be8e",
   "metadata": {},
   "outputs": [
    {
     "name": "stdout",
     "output_type": "stream",
     "text": [
      "['fingerprint', 'pregnancy', 'test', 'android', 'apps', 'beautiful', 'cute', 'health', 'igers', 'iphoneonly', 'iphonesia', 'iphone', 'finally', 'a', 'transparant', 'silicon', 'case', 'thanks', 'to', 'my', 'uncle', 'yay', 'sony', 'xperia', 's', 'sonyexperias', 'we', 'love', 'this', 'would', 'you', 'go', 'talk', 'makememories', 'unplug', 'relax', 'iphone', 'smartphone', 'wifi', 'connect', 'i', 'am', 'wired', 'i', 'know', 'i', 'am', 'george', 'i', 'wa']\n"
     ]
    },
    {
     "data": {
      "text/plain": [
       "15981"
      ]
     },
     "execution_count": 28,
     "metadata": {},
     "output_type": "execute_result"
    }
   ],
   "source": [
    "#now for cleaned tweets\n",
    "all_words = []\n",
    "for txt in df['tweets_having_swords']:\n",
    "    all_words.extend(txt.split())\n",
    "\n",
    "print(all_words[:50])\n",
    "len(set(all_words))"
   ]
  },
  {
   "cell_type": "code",
   "execution_count": 29,
   "id": "7b46527b",
   "metadata": {},
   "outputs": [
    {
     "data": {
      "image/png": "[encoded data removed]",
      "text/plain": [
       "<Figure size 600x400 with 1 Axes>"
      ]
     },
     "metadata": {},
     "output_type": "display_data"
    }
   ],
   "source": [
    "dist = nltk.FreqDist(all_words)\n",
    "\n",
    "plt.figure(figsize=(6,4))\n",
    "plt.title('Top 10 most common words')\n",
    "plt.xticks(fontsize=10)\n",
    "\n",
    "dist.plot(10, cumulative=False)\n",
    "\n",
    "plt.show()"
   ]
  },
  {
   "cell_type": "code",
   "execution_count": 30,
   "id": "101f9f0d",
   "metadata": {},
   "outputs": [],
   "source": [
    "#now we remove stopwords from our original dataset by using function \n",
    "def tweet_wo_swords(text):\n",
    "    processed= re.sub(r\"'s\\b\", \" is\",text)\n",
    "    processed= re.sub(\"#\", \"\", processed)\n",
    "    processed= re.sub(\"@[A-Za-z0-9]+\", \"\", processed)\n",
    "    processed = re.sub(r\"http\\S+\", \"\", processed)\n",
    "    processed= contractions.fix(processed)    \n",
    "    processed= re.sub(r\"[^a-zA-Z]\", \" \", processed)    \n",
    "    processed= processed.lower().strip()\n",
    "    \n",
    "    processed = [token for token in processed.split() if token not in s_word]\n",
    "\n",
    "    processed = [token for token in processed if len(token)>2]\n",
    "    \n",
    "    cleaned = ''\n",
    "    for token in processed:\n",
    "        cleaned = cleaned + lemma.lemmatize(token) + ' '\n",
    "    \n",
    "    return cleaned"
   ]
  },
  {
   "cell_type": "code",
   "execution_count": 31,
   "id": "5909ef7e",
   "metadata": {},
   "outputs": [
    {
     "name": "stdout",
     "output_type": "stream",
     "text": [
      "['fingerprint pregnancy test android apps beautiful cute health igers iphoneonly iphonesia iphone ', 'finally transparant silicon case thanks uncle yay sony xperia sonyexperias ', 'love would talk makememories unplug relax iphone smartphone wifi connect ', 'wired know george made way iphone cute daventry home ', 'amazing service apple even talk question unless pay stupid support ']\n"
     ]
    }
   ],
   "source": [
    "cleaned = list(df['tweet'].apply(tweet_wo_swords))\n",
    "print(cleaned[:5])"
   ]
  },
  {
   "cell_type": "code",
   "execution_count": 32,
   "id": "0b412e25",
   "metadata": {},
   "outputs": [
    {
     "data": {
      "text/html": [
       "<div>\n",
       "<style scoped>\n",
       "    .dataframe tbody tr th:only-of-type {\n",
       "        vertical-align: middle;\n",
       "    }\n",
       "\n",
       "    .dataframe tbody tr th {\n",
       "        vertical-align: top;\n",
       "    }\n",
       "\n",
       "    .dataframe thead th {\n",
       "        text-align: right;\n",
       "    }\n",
       "</style>\n",
       "<table border=\"1\" class=\"dataframe\">\n",
       "  <thead>\n",
       "    <tr style=\"text-align: right;\">\n",
       "      <th></th>\n",
       "      <th>id</th>\n",
       "      <th>label</th>\n",
       "      <th>tweet</th>\n",
       "      <th>tweets_having_swords</th>\n",
       "      <th>tweets_without_swords</th>\n",
       "    </tr>\n",
       "  </thead>\n",
       "  <tbody>\n",
       "    <tr>\n",
       "      <th>0</th>\n",
       "      <td>1</td>\n",
       "      <td>0</td>\n",
       "      <td>#fingerprint #Pregnancy Test https://goo.gl/h1...</td>\n",
       "      <td>fingerprint pregnancy test android apps beauti...</td>\n",
       "      <td>fingerprint pregnancy test android apps beauti...</td>\n",
       "    </tr>\n",
       "    <tr>\n",
       "      <th>1</th>\n",
       "      <td>2</td>\n",
       "      <td>0</td>\n",
       "      <td>Finally a transparant silicon case ^^ Thanks t...</td>\n",
       "      <td>finally a transparant silicon case thanks to m...</td>\n",
       "      <td>finally transparant silicon case thanks uncle ...</td>\n",
       "    </tr>\n",
       "    <tr>\n",
       "      <th>2</th>\n",
       "      <td>3</td>\n",
       "      <td>0</td>\n",
       "      <td>We love this! Would you go? #talk #makememorie...</td>\n",
       "      <td>we love this would you go talk makememories un...</td>\n",
       "      <td>love would talk makememories unplug relax ipho...</td>\n",
       "    </tr>\n",
       "    <tr>\n",
       "      <th>3</th>\n",
       "      <td>4</td>\n",
       "      <td>0</td>\n",
       "      <td>I'm wired I know I'm George I was made that wa...</td>\n",
       "      <td>i am wired i know i am george i wa made that w...</td>\n",
       "      <td>wired know george made way iphone cute daventr...</td>\n",
       "    </tr>\n",
       "    <tr>\n",
       "      <th>4</th>\n",
       "      <td>5</td>\n",
       "      <td>1</td>\n",
       "      <td>What amazing service! Apple won't even talk to...</td>\n",
       "      <td>what amazing service apple will not even talk ...</td>\n",
       "      <td>amazing service apple even talk question unles...</td>\n",
       "    </tr>\n",
       "  </tbody>\n",
       "</table>\n",
       "</div>"
      ],
      "text/plain": [
       "   id  label                                              tweet  \\\n",
       "0   1      0  #fingerprint #Pregnancy Test https://goo.gl/h1...   \n",
       "1   2      0  Finally a transparant silicon case ^^ Thanks t...   \n",
       "2   3      0  We love this! Would you go? #talk #makememorie...   \n",
       "3   4      0  I'm wired I know I'm George I was made that wa...   \n",
       "4   5      1  What amazing service! Apple won't even talk to...   \n",
       "\n",
       "                                tweets_having_swords  \\\n",
       "0  fingerprint pregnancy test android apps beauti...   \n",
       "1  finally a transparant silicon case thanks to m...   \n",
       "2  we love this would you go talk makememories un...   \n",
       "3  i am wired i know i am george i wa made that w...   \n",
       "4  what amazing service apple will not even talk ...   \n",
       "\n",
       "                               tweets_without_swords  \n",
       "0  fingerprint pregnancy test android apps beauti...  \n",
       "1  finally transparant silicon case thanks uncle ...  \n",
       "2  love would talk makememories unplug relax ipho...  \n",
       "3  wired know george made way iphone cute daventr...  \n",
       "4  amazing service apple even talk question unles...  "
      ]
     },
     "execution_count": 32,
     "metadata": {},
     "output_type": "execute_result"
    }
   ],
   "source": [
    "df['tweets_without_swords'] = cleaned\n",
    "df.head()"
   ]
  },
  {
   "cell_type": "code",
   "execution_count": 33,
   "id": "89ad8821",
   "metadata": {},
   "outputs": [
    {
     "name": "stdout",
     "output_type": "stream",
     "text": [
      "['fingerprint', 'pregnancy', 'test', 'android', 'apps', 'beautiful', 'cute', 'health', 'igers', 'iphoneonly', 'iphonesia', 'iphone', 'finally', 'transparant', 'silicon', 'case', 'thanks', 'uncle', 'yay', 'sony', 'xperia', 'sonyexperias', 'love', 'would', 'talk', 'makememories', 'unplug', 'relax', 'iphone', 'smartphone', 'wifi', 'connect', 'wired', 'know', 'george', 'made', 'way', 'iphone', 'cute', 'daventry', 'home', 'amazing', 'service', 'apple', 'even', 'talk', 'question', 'unless', 'pay', 'stupid']\n"
     ]
    }
   ],
   "source": [
    "all_words = []\n",
    "for txt in df['tweets_without_swords']:\n",
    "    all_words.extend(txt.split())\n",
    "\n",
    "print(all_words[:50])\n"
   ]
  },
  {
   "cell_type": "code",
   "execution_count": 34,
   "id": "82283e62",
   "metadata": {},
   "outputs": [
    {
     "data": {
      "image/png": "[encoded data removed]",
      "text/plain": [
       "<Figure size 600x400 with 1 Axes>"
      ]
     },
     "metadata": {},
     "output_type": "display_data"
    }
   ],
   "source": [
    "#now plotting\n",
    "freq_dist = nltk.FreqDist(all_words)\n",
    "\n",
    "plt.figure(figsize=(6,4))\n",
    "plt.title('Top 10 most common words')\n",
    "plt.xticks(fontsize=10)\n",
    "\n",
    "freq_dist.plot(10, cumulative=False)\n",
    "\n",
    "plt.show()"
   ]
  },
  {
   "cell_type": "code",
   "execution_count": 35,
   "id": "21e21710",
   "metadata": {},
   "outputs": [],
   "source": [
    "#now using bag of word models like -\n",
    "#count vectorizer and tfidf"
   ]
  },
  {
   "cell_type": "code",
   "execution_count": 36,
   "id": "2b1634f4",
   "metadata": {},
   "outputs": [
    {
     "data": {
      "text/plain": [
       "(7920, 5)"
      ]
     },
     "execution_count": 36,
     "metadata": {},
     "output_type": "execute_result"
    }
   ],
   "source": [
    "df.shape"
   ]
  },
  {
   "cell_type": "code",
   "execution_count": 37,
   "id": "82e78929",
   "metadata": {},
   "outputs": [],
   "source": [
    "from sklearn.feature_extraction.text import CountVectorizer\n",
    "\n",
    "CV = CountVectorizer()\n",
    "CV_features = CV.fit_transform(df['tweets_having_swords'])"
   ]
  },
  {
   "cell_type": "code",
   "execution_count": 38,
   "id": "d6e4111b",
   "metadata": {},
   "outputs": [
    {
     "data": {
      "text/plain": [
       "(7920, 15955)"
      ]
     },
     "execution_count": 38,
     "metadata": {},
     "output_type": "execute_result"
    }
   ],
   "source": [
    "CV_features.shape"
   ]
  },
  {
   "cell_type": "code",
   "execution_count": 39,
   "id": "eb768873",
   "metadata": {},
   "outputs": [
    {
     "data": {
      "text/plain": [
       "scipy.sparse._csr.csr_matrix"
      ]
     },
     "execution_count": 39,
     "metadata": {},
     "output_type": "execute_result"
    }
   ],
   "source": [
    "type(CV_features[0])"
   ]
  },
  {
   "cell_type": "code",
   "execution_count": 40,
   "id": "44c4967c",
   "metadata": {},
   "outputs": [
    {
     "data": {
      "text/html": [
       "<div>\n",
       "<style scoped>\n",
       "    .dataframe tbody tr th:only-of-type {\n",
       "        vertical-align: middle;\n",
       "    }\n",
       "\n",
       "    .dataframe tbody tr th {\n",
       "        vertical-align: top;\n",
       "    }\n",
       "\n",
       "    .dataframe thead th {\n",
       "        text-align: right;\n",
       "    }\n",
       "</style>\n",
       "<table border=\"1\" class=\"dataframe\">\n",
       "  <thead>\n",
       "    <tr style=\"text-align: right;\">\n",
       "      <th></th>\n",
       "      <th>0</th>\n",
       "      <th>1</th>\n",
       "      <th>2</th>\n",
       "      <th>3</th>\n",
       "      <th>4</th>\n",
       "      <th>5</th>\n",
       "      <th>6</th>\n",
       "      <th>7</th>\n",
       "      <th>8</th>\n",
       "      <th>9</th>\n",
       "      <th>...</th>\n",
       "      <th>15945</th>\n",
       "      <th>15946</th>\n",
       "      <th>15947</th>\n",
       "      <th>15948</th>\n",
       "      <th>15949</th>\n",
       "      <th>15950</th>\n",
       "      <th>15951</th>\n",
       "      <th>15952</th>\n",
       "      <th>15953</th>\n",
       "      <th>15954</th>\n",
       "    </tr>\n",
       "  </thead>\n",
       "  <tbody>\n",
       "    <tr>\n",
       "      <th>0</th>\n",
       "      <td>0</td>\n",
       "      <td>0</td>\n",
       "      <td>0</td>\n",
       "      <td>0</td>\n",
       "      <td>0</td>\n",
       "      <td>0</td>\n",
       "      <td>0</td>\n",
       "      <td>0</td>\n",
       "      <td>0</td>\n",
       "      <td>0</td>\n",
       "      <td>...</td>\n",
       "      <td>0</td>\n",
       "      <td>0</td>\n",
       "      <td>0</td>\n",
       "      <td>0</td>\n",
       "      <td>0</td>\n",
       "      <td>0</td>\n",
       "      <td>0</td>\n",
       "      <td>0</td>\n",
       "      <td>0</td>\n",
       "      <td>0</td>\n",
       "    </tr>\n",
       "    <tr>\n",
       "      <th>1</th>\n",
       "      <td>0</td>\n",
       "      <td>0</td>\n",
       "      <td>0</td>\n",
       "      <td>0</td>\n",
       "      <td>0</td>\n",
       "      <td>0</td>\n",
       "      <td>0</td>\n",
       "      <td>0</td>\n",
       "      <td>0</td>\n",
       "      <td>0</td>\n",
       "      <td>...</td>\n",
       "      <td>0</td>\n",
       "      <td>0</td>\n",
       "      <td>0</td>\n",
       "      <td>0</td>\n",
       "      <td>0</td>\n",
       "      <td>0</td>\n",
       "      <td>0</td>\n",
       "      <td>0</td>\n",
       "      <td>0</td>\n",
       "      <td>0</td>\n",
       "    </tr>\n",
       "    <tr>\n",
       "      <th>2</th>\n",
       "      <td>0</td>\n",
       "      <td>0</td>\n",
       "      <td>0</td>\n",
       "      <td>0</td>\n",
       "      <td>0</td>\n",
       "      <td>0</td>\n",
       "      <td>0</td>\n",
       "      <td>0</td>\n",
       "      <td>0</td>\n",
       "      <td>0</td>\n",
       "      <td>...</td>\n",
       "      <td>0</td>\n",
       "      <td>0</td>\n",
       "      <td>0</td>\n",
       "      <td>0</td>\n",
       "      <td>0</td>\n",
       "      <td>0</td>\n",
       "      <td>0</td>\n",
       "      <td>0</td>\n",
       "      <td>0</td>\n",
       "      <td>0</td>\n",
       "    </tr>\n",
       "    <tr>\n",
       "      <th>3</th>\n",
       "      <td>0</td>\n",
       "      <td>0</td>\n",
       "      <td>0</td>\n",
       "      <td>0</td>\n",
       "      <td>0</td>\n",
       "      <td>0</td>\n",
       "      <td>0</td>\n",
       "      <td>0</td>\n",
       "      <td>0</td>\n",
       "      <td>0</td>\n",
       "      <td>...</td>\n",
       "      <td>0</td>\n",
       "      <td>0</td>\n",
       "      <td>0</td>\n",
       "      <td>0</td>\n",
       "      <td>0</td>\n",
       "      <td>0</td>\n",
       "      <td>0</td>\n",
       "      <td>0</td>\n",
       "      <td>0</td>\n",
       "      <td>0</td>\n",
       "    </tr>\n",
       "    <tr>\n",
       "      <th>4</th>\n",
       "      <td>0</td>\n",
       "      <td>0</td>\n",
       "      <td>0</td>\n",
       "      <td>0</td>\n",
       "      <td>0</td>\n",
       "      <td>0</td>\n",
       "      <td>0</td>\n",
       "      <td>0</td>\n",
       "      <td>0</td>\n",
       "      <td>0</td>\n",
       "      <td>...</td>\n",
       "      <td>0</td>\n",
       "      <td>0</td>\n",
       "      <td>0</td>\n",
       "      <td>0</td>\n",
       "      <td>0</td>\n",
       "      <td>0</td>\n",
       "      <td>0</td>\n",
       "      <td>0</td>\n",
       "      <td>0</td>\n",
       "      <td>0</td>\n",
       "    </tr>\n",
       "    <tr>\n",
       "      <th>...</th>\n",
       "      <td>...</td>\n",
       "      <td>...</td>\n",
       "      <td>...</td>\n",
       "      <td>...</td>\n",
       "      <td>...</td>\n",
       "      <td>...</td>\n",
       "      <td>...</td>\n",
       "      <td>...</td>\n",
       "      <td>...</td>\n",
       "      <td>...</td>\n",
       "      <td>...</td>\n",
       "      <td>...</td>\n",
       "      <td>...</td>\n",
       "      <td>...</td>\n",
       "      <td>...</td>\n",
       "      <td>...</td>\n",
       "      <td>...</td>\n",
       "      <td>...</td>\n",
       "      <td>...</td>\n",
       "      <td>...</td>\n",
       "      <td>...</td>\n",
       "    </tr>\n",
       "    <tr>\n",
       "      <th>7915</th>\n",
       "      <td>0</td>\n",
       "      <td>0</td>\n",
       "      <td>0</td>\n",
       "      <td>0</td>\n",
       "      <td>0</td>\n",
       "      <td>0</td>\n",
       "      <td>0</td>\n",
       "      <td>0</td>\n",
       "      <td>0</td>\n",
       "      <td>0</td>\n",
       "      <td>...</td>\n",
       "      <td>0</td>\n",
       "      <td>0</td>\n",
       "      <td>0</td>\n",
       "      <td>0</td>\n",
       "      <td>0</td>\n",
       "      <td>0</td>\n",
       "      <td>0</td>\n",
       "      <td>0</td>\n",
       "      <td>0</td>\n",
       "      <td>0</td>\n",
       "    </tr>\n",
       "    <tr>\n",
       "      <th>7916</th>\n",
       "      <td>0</td>\n",
       "      <td>0</td>\n",
       "      <td>0</td>\n",
       "      <td>0</td>\n",
       "      <td>0</td>\n",
       "      <td>0</td>\n",
       "      <td>0</td>\n",
       "      <td>0</td>\n",
       "      <td>0</td>\n",
       "      <td>0</td>\n",
       "      <td>...</td>\n",
       "      <td>0</td>\n",
       "      <td>0</td>\n",
       "      <td>0</td>\n",
       "      <td>0</td>\n",
       "      <td>0</td>\n",
       "      <td>0</td>\n",
       "      <td>0</td>\n",
       "      <td>0</td>\n",
       "      <td>0</td>\n",
       "      <td>0</td>\n",
       "    </tr>\n",
       "    <tr>\n",
       "      <th>7917</th>\n",
       "      <td>0</td>\n",
       "      <td>0</td>\n",
       "      <td>0</td>\n",
       "      <td>0</td>\n",
       "      <td>0</td>\n",
       "      <td>0</td>\n",
       "      <td>0</td>\n",
       "      <td>0</td>\n",
       "      <td>0</td>\n",
       "      <td>0</td>\n",
       "      <td>...</td>\n",
       "      <td>0</td>\n",
       "      <td>0</td>\n",
       "      <td>0</td>\n",
       "      <td>0</td>\n",
       "      <td>0</td>\n",
       "      <td>0</td>\n",
       "      <td>0</td>\n",
       "      <td>0</td>\n",
       "      <td>0</td>\n",
       "      <td>0</td>\n",
       "    </tr>\n",
       "    <tr>\n",
       "      <th>7918</th>\n",
       "      <td>0</td>\n",
       "      <td>0</td>\n",
       "      <td>0</td>\n",
       "      <td>0</td>\n",
       "      <td>0</td>\n",
       "      <td>0</td>\n",
       "      <td>0</td>\n",
       "      <td>0</td>\n",
       "      <td>0</td>\n",
       "      <td>0</td>\n",
       "      <td>...</td>\n",
       "      <td>0</td>\n",
       "      <td>0</td>\n",
       "      <td>0</td>\n",
       "      <td>0</td>\n",
       "      <td>0</td>\n",
       "      <td>0</td>\n",
       "      <td>0</td>\n",
       "      <td>0</td>\n",
       "      <td>0</td>\n",
       "      <td>0</td>\n",
       "    </tr>\n",
       "    <tr>\n",
       "      <th>7919</th>\n",
       "      <td>0</td>\n",
       "      <td>0</td>\n",
       "      <td>0</td>\n",
       "      <td>0</td>\n",
       "      <td>0</td>\n",
       "      <td>0</td>\n",
       "      <td>0</td>\n",
       "      <td>0</td>\n",
       "      <td>0</td>\n",
       "      <td>0</td>\n",
       "      <td>...</td>\n",
       "      <td>0</td>\n",
       "      <td>0</td>\n",
       "      <td>0</td>\n",
       "      <td>0</td>\n",
       "      <td>0</td>\n",
       "      <td>0</td>\n",
       "      <td>0</td>\n",
       "      <td>0</td>\n",
       "      <td>0</td>\n",
       "      <td>0</td>\n",
       "    </tr>\n",
       "  </tbody>\n",
       "</table>\n",
       "<p>7920 rows × 15955 columns</p>\n",
       "</div>"
      ],
      "text/plain": [
       "      0      1      2      3      4      5      6      7      8      9      \\\n",
       "0         0      0      0      0      0      0      0      0      0      0   \n",
       "1         0      0      0      0      0      0      0      0      0      0   \n",
       "2         0      0      0      0      0      0      0      0      0      0   \n",
       "3         0      0      0      0      0      0      0      0      0      0   \n",
       "4         0      0      0      0      0      0      0      0      0      0   \n",
       "...     ...    ...    ...    ...    ...    ...    ...    ...    ...    ...   \n",
       "7915      0      0      0      0      0      0      0      0      0      0   \n",
       "7916      0      0      0      0      0      0      0      0      0      0   \n",
       "7917      0      0      0      0      0      0      0      0      0      0   \n",
       "7918      0      0      0      0      0      0      0      0      0      0   \n",
       "7919      0      0      0      0      0      0      0      0      0      0   \n",
       "\n",
       "      ...  15945  15946  15947  15948  15949  15950  15951  15952  15953  \\\n",
       "0     ...      0      0      0      0      0      0      0      0      0   \n",
       "1     ...      0      0      0      0      0      0      0      0      0   \n",
       "2     ...      0      0      0      0      0      0      0      0      0   \n",
       "3     ...      0      0      0      0      0      0      0      0      0   \n",
       "4     ...      0      0      0      0      0      0      0      0      0   \n",
       "...   ...    ...    ...    ...    ...    ...    ...    ...    ...    ...   \n",
       "7915  ...      0      0      0      0      0      0      0      0      0   \n",
       "7916  ...      0      0      0      0      0      0      0      0      0   \n",
       "7917  ...      0      0      0      0      0      0      0      0      0   \n",
       "7918  ...      0      0      0      0      0      0      0      0      0   \n",
       "7919  ...      0      0      0      0      0      0      0      0      0   \n",
       "\n",
       "      15954  \n",
       "0         0  \n",
       "1         0  \n",
       "2         0  \n",
       "3         0  \n",
       "4         0  \n",
       "...     ...  \n",
       "7915      0  \n",
       "7916      0  \n",
       "7917      0  \n",
       "7918      0  \n",
       "7919      0  \n",
       "\n",
       "[7920 rows x 15955 columns]"
      ]
     },
     "execution_count": 40,
     "metadata": {},
     "output_type": "execute_result"
    }
   ],
   "source": [
    "import pandas as pd\n",
    "df1 = pd.DataFrame(CV_features.todense() )\n",
    "df1\n",
    "# Document-Term-Matrix X = [N x p ]\n",
    "# N = no. of documents and p = no. of unique words"
   ]
  },
  {
   "cell_type": "code",
   "execution_count": 41,
   "id": "27513a85",
   "metadata": {},
   "outputs": [
    {
     "data": {
      "text/plain": [
       "126363600"
      ]
     },
     "execution_count": 41,
     "metadata": {},
     "output_type": "execute_result"
    }
   ],
   "source": [
    "df1.size"
   ]
  },
  {
   "cell_type": "code",
   "execution_count": 42,
   "id": "ea8932fd",
   "metadata": {},
   "outputs": [
    {
     "data": {
      "text/plain": [
       "114973"
      ]
     },
     "execution_count": 42,
     "metadata": {},
     "output_type": "execute_result"
    }
   ],
   "source": [
    "import numpy as np\n",
    "np.count_nonzero(df1)"
   ]
  },
  {
   "cell_type": "code",
   "execution_count": 43,
   "id": "89307013",
   "metadata": {},
   "outputs": [
    {
     "name": "stdout",
     "output_type": "stream",
     "text": [
      "['aa' 'aaaahhhhhhh' 'aag' 'aah' 'aalborg' 'aand' 'aapl' 'aarhus' 'aaron'\n",
      " 'aarp' 'aarrrggghhhh' 'aashamsakal' 'aaydojbfkq' 'aayp' 'ab' 'abah'\n",
      " 'abareta' 'abay' 'abb' 'abc']\n"
     ]
    }
   ],
   "source": [
    "#first 20 vocabulary names\n",
    "print(CV.get_feature_names_out()[:20]) "
   ]
  },
  {
   "cell_type": "code",
   "execution_count": 44,
   "id": "d3873359",
   "metadata": {},
   "outputs": [
    {
     "data": {
      "text/plain": [
       "matrix([[0, 0, 0, ..., 0, 0, 0]])"
      ]
     },
     "execution_count": 44,
     "metadata": {},
     "output_type": "execute_result"
    }
   ],
   "source": [
    "CV_features[10].todense() "
   ]
  },
  {
   "cell_type": "code",
   "execution_count": 45,
   "id": "1c83f4fc",
   "metadata": {},
   "outputs": [
    {
     "data": {
      "text/plain": [
       "[array(['apple', 'color', 'crash', 'do', 'every', 'five', 'fuckin', 'hey',\n",
       "        'inch', 'ipod', 'it', 'make', 'minite', 'new', 'not', 'or',\n",
       "        'thinner', 'when', 'you'], dtype='<U41')]"
      ]
     },
     "execution_count": 45,
     "metadata": {},
     "output_type": "execute_result"
    }
   ],
   "source": [
    "CV.inverse_transform(np.asarray(CV_features[10].todense())) "
   ]
  },
  {
   "cell_type": "code",
   "execution_count": 46,
   "id": "62838bdf",
   "metadata": {},
   "outputs": [],
   "source": [
    "#building the model for the predictions\n",
    "from sklearn.model_selection import train_test_split\n",
    "\n",
    "X_train, X_test, y_train, y_test = train_test_split(CV_features, df['label'], test_size=0.25, stratify=df['label'])"
   ]
  },
  {
   "cell_type": "code",
   "execution_count": 47,
   "id": "40e50312",
   "metadata": {},
   "outputs": [
    {
     "name": "stdout",
     "output_type": "stream",
     "text": [
      "0.9752525252525253\n",
      "0.8777777777777778\n"
     ]
    }
   ],
   "source": [
    "from sklearn.linear_model import LogisticRegression\n",
    "LR = LogisticRegression(solver='liblinear')\n",
    "LR.fit(X_train, y_train)\n",
    "\n",
    "print(LR.score(X_train, y_train))  \n",
    "print(LR.score(X_test, y_test))    "
   ]
  },
  {
   "cell_type": "code",
   "execution_count": 48,
   "id": "0ccbcbe2",
   "metadata": {},
   "outputs": [
    {
     "name": "stdout",
     "output_type": "stream",
     "text": [
      "0.9148148148148149\n",
      "0.8813131313131313\n"
     ]
    }
   ],
   "source": [
    "#currently the model is overfitting over the data due to its high accuracy in the training dataset\n",
    "#going for l1 regularization\n",
    "LR1 = LogisticRegression(class_weight='balanced', solver='liblinear', penalty='l1', C=0.5)\n",
    "LR1.fit(X_train, y_train)\n",
    "\n",
    "print(LR1.score(X_train, y_train)) \n",
    "print(LR1.score(X_test, y_test))     "
   ]
  },
  {
   "cell_type": "code",
   "execution_count": 49,
   "id": "8f7f328a",
   "metadata": {},
   "outputs": [],
   "source": [
    "from sklearn.model_selection import cross_val_score, cross_validate\n",
    "from sklearn.model_selection import StratifiedKFold\n",
    "X = CV_features\n",
    "y = df['label']"
   ]
  },
  {
   "cell_type": "code",
   "execution_count": 50,
   "id": "d8b5a762",
   "metadata": {},
   "outputs": [
    {
     "name": "stdout",
     "output_type": "stream",
     "text": [
      "[0.89204545 0.87058081 0.87752525 0.8989899  0.88888889]\n",
      "88.56 1.02\n"
     ]
    }
   ],
   "source": [
    "#now crossvalidating the model \n",
    "\n",
    "LR1 = LogisticRegression(class_weight='balanced', solver='liblinear', penalty='l1', C=0.5)\n",
    "kfold = StratifiedKFold(n_splits=5, shuffle=True, random_state=42)\n",
    "results = cross_val_score(LR1, X, y, cv=kfold, scoring='accuracy')\n",
    "print(results)\n",
    "print(np.round((results.mean())*100, 2), np.round((results.std())*100, 2)) "
   ]
  },
  {
   "cell_type": "code",
   "execution_count": 51,
   "id": "c707569c",
   "metadata": {},
   "outputs": [
    {
     "data": {
      "text/plain": [
       "{'fit_time': array([0.02256989, 0.02017808, 0.02026796, 0.01882982, 0.0197618 ]),\n",
       " 'score_time': array([0.00052714, 0.00043488, 0.00046396, 0.00044298, 0.00044918]),\n",
       " 'test_score': array([0.89204545, 0.87058081, 0.87689394, 0.8989899 , 0.88888889]),\n",
       " 'train_score': array([0.91066919, 0.91477273, 0.90830177, 0.90830177, 0.90814394])}"
      ]
     },
     "execution_count": 51,
     "metadata": {},
     "output_type": "execute_result"
    }
   ],
   "source": [
    "kfold = StratifiedKFold(n_splits=5, shuffle=True, random_state=42)\n",
    "results = cross_validate(LR1, X, y, cv=kfold, scoring='accuracy', return_train_score=True)\n",
    "results"
   ]
  },
  {
   "cell_type": "code",
   "execution_count": 52,
   "id": "5b85489b",
   "metadata": {},
   "outputs": [
    {
     "name": "stdout",
     "output_type": "stream",
     "text": [
      "91.0 0.25\n"
     ]
    }
   ],
   "source": [
    "#getting train error by mean \n",
    "print(np.round((results['train_score'].mean())*100, 2), np.round((results['train_score'].std())*100, 2)) "
   ]
  },
  {
   "cell_type": "code",
   "execution_count": 53,
   "id": "aa2dc20c",
   "metadata": {},
   "outputs": [
    {
     "name": "stdout",
     "output_type": "stream",
     "text": [
      "88.55 1.03\n"
     ]
    }
   ],
   "source": [
    "#getting test error by mean \n",
    "print(np.round((results['test_score'].mean())*100, 2), np.round((results['test_score'].std())*100, 2)) "
   ]
  },
  {
   "cell_type": "code",
   "execution_count": 54,
   "id": "191226c9",
   "metadata": {},
   "outputs": [],
   "source": [
    "#tuning hyperparameter for our model for the best results\n",
    "#Using gridsearchCV"
   ]
  },
  {
   "cell_type": "code",
   "execution_count": 55,
   "id": "9f61c0be",
   "metadata": {},
   "outputs": [
    {
     "name": "stdout",
     "output_type": "stream",
     "text": [
      "Fitting 5 folds for each of 20 candidates, totalling 100 fits\n"
     ]
    }
   ],
   "source": [
    "from sklearn.model_selection import GridSearchCV\n",
    "\n",
    "LR1 = LogisticRegression(class_weight='balanced', solver='liblinear', penalty='l1')\n",
    "\n",
    "C_values = np.arange(0.00001, 1, 0.05) # 20 values\n",
    "\n",
    "grid = GridSearchCV(estimator=LR1, param_grid={'C': C_values}, cv=kfold, scoring='accuracy', \\\n",
    "                    return_train_score=True, verbose=2, n_jobs=-1)\n",
    "grid_results = grid.fit(X,y)"
   ]
  },
  {
   "cell_type": "code",
   "execution_count": 56,
   "id": "3d603de1",
   "metadata": {},
   "outputs": [
    {
     "data": {
      "text/html": [
       "<style>#sk-container-id-1 {color: black;background-color: white;}#sk-container-id-1 pre{padding: 0;}#sk-container-id-1 div.sk-toggleable {background-color: white;}#sk-container-id-1 label.sk-toggleable__label {cursor: pointer;display: block;width: 100%;margin-bottom: 0;padding: 0.3em;box-sizing: border-box;text-align: center;}#sk-container-id-1 label.sk-toggleable__label-arrow:before {content: \"▸\";float: left;margin-right: 0.25em;color: #696969;}#sk-container-id-1 label.sk-toggleable__label-arrow:hover:before {color: black;}#sk-container-id-1 div.sk-estimator:hover label.sk-toggleable__label-arrow:before {color: black;}#sk-container-id-1 div.sk-toggleable__content {max-height: 0;max-width: 0;overflow: hidden;text-align: left;background-color: #f0f8ff;}#sk-container-id-1 div.sk-toggleable__content pre {margin: 0.2em;color: black;border-radius: 0.25em;background-color: #f0f8ff;}#sk-container-id-1 input.sk-toggleable__control:checked~div.sk-toggleable__content {max-height: 200px;max-width: 100%;overflow: auto;}#sk-container-id-1 input.sk-toggleable__control:checked~label.sk-toggleable__label-arrow:before {content: \"▾\";}#sk-container-id-1 div.sk-estimator input.sk-toggleable__control:checked~label.sk-toggleable__label {background-color: #d4ebff;}#sk-container-id-1 div.sk-label input.sk-toggleable__control:checked~label.sk-toggleable__label {background-color: #d4ebff;}#sk-container-id-1 input.sk-hidden--visually {border: 0;clip: rect(1px 1px 1px 1px);clip: rect(1px, 1px, 1px, 1px);height: 1px;margin: -1px;overflow: hidden;padding: 0;position: absolute;width: 1px;}#sk-container-id-1 div.sk-estimator {font-family: monospace;background-color: #f0f8ff;border: 1px dotted black;border-radius: 0.25em;box-sizing: border-box;margin-bottom: 0.5em;}#sk-container-id-1 div.sk-estimator:hover {background-color: #d4ebff;}#sk-container-id-1 div.sk-parallel-item::after {content: \"\";width: 100%;border-bottom: 1px solid gray;flex-grow: 1;}#sk-container-id-1 div.sk-label:hover label.sk-toggleable__label {background-color: #d4ebff;}#sk-container-id-1 div.sk-serial::before {content: \"\";position: absolute;border-left: 1px solid gray;box-sizing: border-box;top: 0;bottom: 0;left: 50%;z-index: 0;}#sk-container-id-1 div.sk-serial {display: flex;flex-direction: column;align-items: center;background-color: white;padding-right: 0.2em;padding-left: 0.2em;position: relative;}#sk-container-id-1 div.sk-item {position: relative;z-index: 1;}#sk-container-id-1 div.sk-parallel {display: flex;align-items: stretch;justify-content: center;background-color: white;position: relative;}#sk-container-id-1 div.sk-item::before, #sk-container-id-1 div.sk-parallel-item::before {content: \"\";position: absolute;border-left: 1px solid gray;box-sizing: border-box;top: 0;bottom: 0;left: 50%;z-index: -1;}#sk-container-id-1 div.sk-parallel-item {display: flex;flex-direction: column;z-index: 1;position: relative;background-color: white;}#sk-container-id-1 div.sk-parallel-item:first-child::after {align-self: flex-end;width: 50%;}#sk-container-id-1 div.sk-parallel-item:last-child::after {align-self: flex-start;width: 50%;}#sk-container-id-1 div.sk-parallel-item:only-child::after {width: 0;}#sk-container-id-1 div.sk-dashed-wrapped {border: 1px dashed gray;margin: 0 0.4em 0.5em 0.4em;box-sizing: border-box;padding-bottom: 0.4em;background-color: white;}#sk-container-id-1 div.sk-label label {font-family: monospace;font-weight: bold;display: inline-block;line-height: 1.2em;}#sk-container-id-1 div.sk-label-container {text-align: center;}#sk-container-id-1 div.sk-container {/* jupyter's `normalize.less` sets `[hidden] { display: none; }` but bootstrap.min.css set `[hidden] { display: none !important; }` so we also need the `!important` here to be able to override the default hidden behavior on the sphinx rendered scikit-learn.org. See: https://github.com/scikit-learn/scikit-learn/issues/21755 */display: inline-block !important;position: relative;}#sk-container-id-1 div.sk-text-repr-fallback {display: none;}</style><div id=\"sk-container-id-1\" class=\"sk-top-container\"><div class=\"sk-text-repr-fallback\"><pre>GridSearchCV(cv=StratifiedKFold(n_splits=5, random_state=42, shuffle=True),\n",
       "             estimator=LogisticRegression(class_weight=&#x27;balanced&#x27;, penalty=&#x27;l1&#x27;,\n",
       "                                          solver=&#x27;liblinear&#x27;),\n",
       "             n_jobs=-1,\n",
       "             param_grid={&#x27;C&#x27;: array([1.0000e-05, 5.0010e-02, 1.0001e-01, 1.5001e-01, 2.0001e-01,\n",
       "       2.5001e-01, 3.0001e-01, 3.5001e-01, 4.0001e-01, 4.5001e-01,\n",
       "       5.0001e-01, 5.5001e-01, 6.0001e-01, 6.5001e-01, 7.0001e-01,\n",
       "       7.5001e-01, 8.0001e-01, 8.5001e-01, 9.0001e-01, 9.5001e-01])},\n",
       "             return_train_score=True, scoring=&#x27;accuracy&#x27;, verbose=2)</pre><b>In a Jupyter environment, please rerun this cell to show the HTML representation or trust the notebook. <br />On GitHub, the HTML representation is unable to render, please try loading this page with nbviewer.org.</b></div><div class=\"sk-container\" hidden><div class=\"sk-item sk-dashed-wrapped\"><div class=\"sk-label-container\"><div class=\"sk-label sk-toggleable\"><input class=\"sk-toggleable__control sk-hidden--visually\" id=\"sk-estimator-id-1\" type=\"checkbox\" ><label for=\"sk-estimator-id-1\" class=\"sk-toggleable__label sk-toggleable__label-arrow\">GridSearchCV</label><div class=\"sk-toggleable__content\"><pre>GridSearchCV(cv=StratifiedKFold(n_splits=5, random_state=42, shuffle=True),\n",
       "             estimator=LogisticRegression(class_weight=&#x27;balanced&#x27;, penalty=&#x27;l1&#x27;,\n",
       "                                          solver=&#x27;liblinear&#x27;),\n",
       "             n_jobs=-1,\n",
       "             param_grid={&#x27;C&#x27;: array([1.0000e-05, 5.0010e-02, 1.0001e-01, 1.5001e-01, 2.0001e-01,\n",
       "       2.5001e-01, 3.0001e-01, 3.5001e-01, 4.0001e-01, 4.5001e-01,\n",
       "       5.0001e-01, 5.5001e-01, 6.0001e-01, 6.5001e-01, 7.0001e-01,\n",
       "       7.5001e-01, 8.0001e-01, 8.5001e-01, 9.0001e-01, 9.5001e-01])},\n",
       "             return_train_score=True, scoring=&#x27;accuracy&#x27;, verbose=2)</pre></div></div></div><div class=\"sk-parallel\"><div class=\"sk-parallel-item\"><div class=\"sk-item\"><div class=\"sk-label-container\"><div class=\"sk-label sk-toggleable\"><input class=\"sk-toggleable__control sk-hidden--visually\" id=\"sk-estimator-id-2\" type=\"checkbox\" ><label for=\"sk-estimator-id-2\" class=\"sk-toggleable__label sk-toggleable__label-arrow\">estimator: LogisticRegression</label><div class=\"sk-toggleable__content\"><pre>LogisticRegression(class_weight=&#x27;balanced&#x27;, penalty=&#x27;l1&#x27;, solver=&#x27;liblinear&#x27;)</pre></div></div></div><div class=\"sk-serial\"><div class=\"sk-item\"><div class=\"sk-estimator sk-toggleable\"><input class=\"sk-toggleable__control sk-hidden--visually\" id=\"sk-estimator-id-3\" type=\"checkbox\" ><label for=\"sk-estimator-id-3\" class=\"sk-toggleable__label sk-toggleable__label-arrow\">LogisticRegression</label><div class=\"sk-toggleable__content\"><pre>LogisticRegression(class_weight=&#x27;balanced&#x27;, penalty=&#x27;l1&#x27;, solver=&#x27;liblinear&#x27;)</pre></div></div></div></div></div></div></div></div></div></div>"
      ],
      "text/plain": [
       "GridSearchCV(cv=StratifiedKFold(n_splits=5, random_state=42, shuffle=True),\n",
       "             estimator=LogisticRegression(class_weight='balanced', penalty='l1',\n",
       "                                          solver='liblinear'),\n",
       "             n_jobs=-1,\n",
       "             param_grid={'C': array([1.0000e-05, 5.0010e-02, 1.0001e-01, 1.5001e-01, 2.0001e-01,\n",
       "       2.5001e-01, 3.0001e-01, 3.5001e-01, 4.0001e-01, 4.5001e-01,\n",
       "       5.0001e-01, 5.5001e-01, 6.0001e-01, 6.5001e-01, 7.0001e-01,\n",
       "       7.5001e-01, 8.0001e-01, 8.5001e-01, 9.0001e-01, 9.5001e-01])},\n",
       "             return_train_score=True, scoring='accuracy', verbose=2)"
      ]
     },
     "execution_count": 56,
     "metadata": {},
     "output_type": "execute_result"
    }
   ],
   "source": [
    "grid_results"
   ]
  },
  {
   "cell_type": "code",
   "execution_count": 57,
   "id": "7411d573",
   "metadata": {},
   "outputs": [
    {
     "data": {
      "text/plain": [
       "({'C': 0.95001}, 0.8904040404040403, 19)"
      ]
     },
     "execution_count": 57,
     "metadata": {},
     "output_type": "execute_result"
    }
   ],
   "source": [
    "grid_results.best_params_, grid_results.best_score_, grid_results.best_index_"
   ]
  },
  {
   "cell_type": "code",
   "execution_count": 58,
   "id": "3b2b0333",
   "metadata": {},
   "outputs": [
    {
     "data": {
      "text/plain": [
       "89.04040404040403"
      ]
     },
     "execution_count": 58,
     "metadata": {},
     "output_type": "execute_result"
    }
   ],
   "source": [
    "grid_results.cv_results_['mean_test_score'][grid_results.best_index_]*100"
   ]
  },
  {
   "cell_type": "code",
   "execution_count": 59,
   "id": "3802c302",
   "metadata": {},
   "outputs": [
    {
     "data": {
      "text/plain": [
       "[<matplotlib.lines.Line2D at 0x153243ca0>]"
      ]
     },
     "execution_count": 59,
     "metadata": {},
     "output_type": "execute_result"
    },
    {
     "data": {
      "image/png": "[encoded data removed]",
      "text/plain": [
       "<Figure size 640x480 with 1 Axes>"
      ]
     },
     "metadata": {},
     "output_type": "display_data"
    }
   ],
   "source": [
    "plt.plot(grid_results.cv_results_['mean_train_score'] - grid_results.cv_results_['mean_test_score'])"
   ]
  },
  {
   "cell_type": "code",
   "execution_count": 60,
   "id": "40aef0f8",
   "metadata": {},
   "outputs": [
    {
     "name": "stdout",
     "output_type": "stream",
     "text": [
      "88.7 0.87\n"
     ]
    }
   ],
   "source": [
    "#creating a pipeline and cross validate\n",
    "from sklearn.pipeline import make_pipeline, Pipeline\n",
    "\n",
    "X = df['tweets_having_swords']\n",
    "y = df['label']\n",
    "\n",
    "CV = CountVectorizer()\n",
    "LR1 = LogisticRegression(class_weight='balanced', solver='liblinear', penalty='l1', C=0.6)\n",
    "\n",
    "CV_pipe = Pipeline([('CV', CV) , ('LR', LR1)] )\n",
    "\n",
    "results = cross_val_score(CV_pipe, X, y, cv=kfold, scoring='accuracy')\n",
    "print(np.round((results.mean())*100, 2), np.round((results.std())*100, 2)) "
   ]
  },
  {
   "cell_type": "code",
   "execution_count": 61,
   "id": "7210d826",
   "metadata": {},
   "outputs": [
    {
     "data": {
      "text/plain": [
       "{'CV': CountVectorizer(),\n",
       " 'LR': LogisticRegression(C=0.6, class_weight='balanced', penalty='l1',\n",
       "                    solver='liblinear')}"
      ]
     },
     "execution_count": 61,
     "metadata": {},
     "output_type": "execute_result"
    }
   ],
   "source": [
    "CV_pipe.named_steps"
   ]
  },
  {
   "cell_type": "code",
   "execution_count": 62,
   "id": "1af4875e",
   "metadata": {},
   "outputs": [
    {
     "data": {
      "text/html": [
       "<style>#sk-container-id-2 {color: black;background-color: white;}#sk-container-id-2 pre{padding: 0;}#sk-container-id-2 div.sk-toggleable {background-color: white;}#sk-container-id-2 label.sk-toggleable__label {cursor: pointer;display: block;width: 100%;margin-bottom: 0;padding: 0.3em;box-sizing: border-box;text-align: center;}#sk-container-id-2 label.sk-toggleable__label-arrow:before {content: \"▸\";float: left;margin-right: 0.25em;color: #696969;}#sk-container-id-2 label.sk-toggleable__label-arrow:hover:before {color: black;}#sk-container-id-2 div.sk-estimator:hover label.sk-toggleable__label-arrow:before {color: black;}#sk-container-id-2 div.sk-toggleable__content {max-height: 0;max-width: 0;overflow: hidden;text-align: left;background-color: #f0f8ff;}#sk-container-id-2 div.sk-toggleable__content pre {margin: 0.2em;color: black;border-radius: 0.25em;background-color: #f0f8ff;}#sk-container-id-2 input.sk-toggleable__control:checked~div.sk-toggleable__content {max-height: 200px;max-width: 100%;overflow: auto;}#sk-container-id-2 input.sk-toggleable__control:checked~label.sk-toggleable__label-arrow:before {content: \"▾\";}#sk-container-id-2 div.sk-estimator input.sk-toggleable__control:checked~label.sk-toggleable__label {background-color: #d4ebff;}#sk-container-id-2 div.sk-label input.sk-toggleable__control:checked~label.sk-toggleable__label {background-color: #d4ebff;}#sk-container-id-2 input.sk-hidden--visually {border: 0;clip: rect(1px 1px 1px 1px);clip: rect(1px, 1px, 1px, 1px);height: 1px;margin: -1px;overflow: hidden;padding: 0;position: absolute;width: 1px;}#sk-container-id-2 div.sk-estimator {font-family: monospace;background-color: #f0f8ff;border: 1px dotted black;border-radius: 0.25em;box-sizing: border-box;margin-bottom: 0.5em;}#sk-container-id-2 div.sk-estimator:hover {background-color: #d4ebff;}#sk-container-id-2 div.sk-parallel-item::after {content: \"\";width: 100%;border-bottom: 1px solid gray;flex-grow: 1;}#sk-container-id-2 div.sk-label:hover label.sk-toggleable__label {background-color: #d4ebff;}#sk-container-id-2 div.sk-serial::before {content: \"\";position: absolute;border-left: 1px solid gray;box-sizing: border-box;top: 0;bottom: 0;left: 50%;z-index: 0;}#sk-container-id-2 div.sk-serial {display: flex;flex-direction: column;align-items: center;background-color: white;padding-right: 0.2em;padding-left: 0.2em;position: relative;}#sk-container-id-2 div.sk-item {position: relative;z-index: 1;}#sk-container-id-2 div.sk-parallel {display: flex;align-items: stretch;justify-content: center;background-color: white;position: relative;}#sk-container-id-2 div.sk-item::before, #sk-container-id-2 div.sk-parallel-item::before {content: \"\";position: absolute;border-left: 1px solid gray;box-sizing: border-box;top: 0;bottom: 0;left: 50%;z-index: -1;}#sk-container-id-2 div.sk-parallel-item {display: flex;flex-direction: column;z-index: 1;position: relative;background-color: white;}#sk-container-id-2 div.sk-parallel-item:first-child::after {align-self: flex-end;width: 50%;}#sk-container-id-2 div.sk-parallel-item:last-child::after {align-self: flex-start;width: 50%;}#sk-container-id-2 div.sk-parallel-item:only-child::after {width: 0;}#sk-container-id-2 div.sk-dashed-wrapped {border: 1px dashed gray;margin: 0 0.4em 0.5em 0.4em;box-sizing: border-box;padding-bottom: 0.4em;background-color: white;}#sk-container-id-2 div.sk-label label {font-family: monospace;font-weight: bold;display: inline-block;line-height: 1.2em;}#sk-container-id-2 div.sk-label-container {text-align: center;}#sk-container-id-2 div.sk-container {/* jupyter's `normalize.less` sets `[hidden] { display: none; }` but bootstrap.min.css set `[hidden] { display: none !important; }` so we also need the `!important` here to be able to override the default hidden behavior on the sphinx rendered scikit-learn.org. See: https://github.com/scikit-learn/scikit-learn/issues/21755 */display: inline-block !important;position: relative;}#sk-container-id-2 div.sk-text-repr-fallback {display: none;}</style><div id=\"sk-container-id-2\" class=\"sk-top-container\"><div class=\"sk-text-repr-fallback\"><pre>Pipeline(steps=[(&#x27;CV&#x27;, CountVectorizer()),\n",
       "                (&#x27;LR&#x27;,\n",
       "                 LogisticRegression(C=0.6, class_weight=&#x27;balanced&#x27;,\n",
       "                                    penalty=&#x27;l1&#x27;, solver=&#x27;liblinear&#x27;))])</pre><b>In a Jupyter environment, please rerun this cell to show the HTML representation or trust the notebook. <br />On GitHub, the HTML representation is unable to render, please try loading this page with nbviewer.org.</b></div><div class=\"sk-container\" hidden><div class=\"sk-item sk-dashed-wrapped\"><div class=\"sk-label-container\"><div class=\"sk-label sk-toggleable\"><input class=\"sk-toggleable__control sk-hidden--visually\" id=\"sk-estimator-id-4\" type=\"checkbox\" ><label for=\"sk-estimator-id-4\" class=\"sk-toggleable__label sk-toggleable__label-arrow\">Pipeline</label><div class=\"sk-toggleable__content\"><pre>Pipeline(steps=[(&#x27;CV&#x27;, CountVectorizer()),\n",
       "                (&#x27;LR&#x27;,\n",
       "                 LogisticRegression(C=0.6, class_weight=&#x27;balanced&#x27;,\n",
       "                                    penalty=&#x27;l1&#x27;, solver=&#x27;liblinear&#x27;))])</pre></div></div></div><div class=\"sk-serial\"><div class=\"sk-item\"><div class=\"sk-estimator sk-toggleable\"><input class=\"sk-toggleable__control sk-hidden--visually\" id=\"sk-estimator-id-5\" type=\"checkbox\" ><label for=\"sk-estimator-id-5\" class=\"sk-toggleable__label sk-toggleable__label-arrow\">CountVectorizer</label><div class=\"sk-toggleable__content\"><pre>CountVectorizer()</pre></div></div></div><div class=\"sk-item\"><div class=\"sk-estimator sk-toggleable\"><input class=\"sk-toggleable__control sk-hidden--visually\" id=\"sk-estimator-id-6\" type=\"checkbox\" ><label for=\"sk-estimator-id-6\" class=\"sk-toggleable__label sk-toggleable__label-arrow\">LogisticRegression</label><div class=\"sk-toggleable__content\"><pre>LogisticRegression(C=0.6, class_weight=&#x27;balanced&#x27;, penalty=&#x27;l1&#x27;,\n",
       "                   solver=&#x27;liblinear&#x27;)</pre></div></div></div></div></div></div></div>"
      ],
      "text/plain": [
       "Pipeline(steps=[('CV', CountVectorizer()),\n",
       "                ('LR',\n",
       "                 LogisticRegression(C=0.6, class_weight='balanced',\n",
       "                                    penalty='l1', solver='liblinear'))])"
      ]
     },
     "execution_count": 62,
     "metadata": {},
     "output_type": "execute_result"
    }
   ],
   "source": [
    "CV_pipe.fit(X,y)"
   ]
  },
  {
   "cell_type": "code",
   "execution_count": 63,
   "id": "45b3c447",
   "metadata": {},
   "outputs": [
    {
     "data": {
      "text/plain": [
       "15955"
      ]
     },
     "execution_count": 63,
     "metadata": {},
     "output_type": "execute_result"
    }
   ],
   "source": [
    "len(CV_pipe['CV'].vocabulary_) "
   ]
  },
  {
   "cell_type": "code",
   "execution_count": 64,
   "id": "8e96b1be",
   "metadata": {},
   "outputs": [
    {
     "name": "stdout",
     "output_type": "stream",
     "text": [
      "87.15 0.9\n"
     ]
    },
    {
     "data": {
      "text/plain": [
       "1096"
      ]
     },
     "execution_count": 64,
     "metadata": {},
     "output_type": "execute_result"
    }
   ],
   "source": [
    "#now without stop words data\n",
    "from sklearn.pipeline import make_pipeline, Pipeline\n",
    "\n",
    "X = df['tweets_having_swords']\n",
    "y = df['label']\n",
    "\n",
    "CV = CountVectorizer(stop_words='english',min_df=10, max_features=None)\n",
    "LR1 = LogisticRegression(class_weight='balanced', solver='liblinear', penalty='l1', C=0.6)\n",
    "\n",
    "CV_pipe = Pipeline([('CV', CV) , ('LR', LR1)] )\n",
    "\n",
    "results = cross_val_score(CV_pipe, X, y, cv=kfold, scoring='accuracy')\n",
    "print(np.round((results.mean())*100, 2), np.round((results.std())*100, 2)) \n",
    "\n",
    "CV_pipe.fit(X,y)\n",
    "len(CV_pipe['CV'].vocabulary_) "
   ]
  },
  {
   "cell_type": "code",
   "execution_count": 65,
   "id": "727dc1c7",
   "metadata": {},
   "outputs": [
    {
     "name": "stdout",
     "output_type": "stream",
     "text": [
      "85.78 1.18\n"
     ]
    },
    {
     "data": {
      "text/plain": [
       "300"
      ]
     },
     "execution_count": 65,
     "metadata": {},
     "output_type": "execute_result"
    }
   ],
   "source": [
    "#with 300 features max cap features\n",
    "from sklearn.pipeline import make_pipeline, Pipeline\n",
    "X = df['tweets_having_swords']\n",
    "y = df['label']\n",
    "\n",
    "CV = CountVectorizer(stop_words='english', min_df=10, max_features=300)\n",
    "LR1 = LogisticRegression(class_weight='balanced', solver='liblinear', penalty='l1', C=0.6)\n",
    "\n",
    "CV_pipe = Pipeline([('CV', CV) , ('LR', LR1)] )\n",
    "\n",
    "results = cross_val_score(CV_pipe, X, y, cv=kfold, scoring='accuracy')\n",
    "print(np.round((results.mean())*100, 2), np.round((results.std())*100, 2)) \n",
    "\n",
    "CV_pipe.fit(X,y)\n",
    "len(CV_pipe['CV'].vocabulary_) "
   ]
  },
  {
   "cell_type": "code",
   "execution_count": 66,
   "id": "bb1f48b0",
   "metadata": {},
   "outputs": [],
   "source": [
    "#now using tfidf methods"
   ]
  },
  {
   "cell_type": "code",
   "execution_count": 67,
   "id": "c91a7b56",
   "metadata": {},
   "outputs": [
    {
     "name": "stdout",
     "output_type": "stream",
     "text": [
      "87.7 0.13\n",
      "86.09 1.07\n"
     ]
    },
    {
     "data": {
      "text/plain": [
       "1000"
      ]
     },
     "execution_count": 67,
     "metadata": {},
     "output_type": "execute_result"
    }
   ],
   "source": [
    "from sklearn.feature_extraction.text import TfidfVectorizer\n",
    "X = df['tweets_having_swords']\n",
    "y = df['label']\n",
    "# select only those words which occur ATLEAST in 5 documents!! \n",
    "\n",
    "TFIDF = TfidfVectorizer(stop_words='english',  min_df=5, max_features=1000)\n",
    "\n",
    "LR1 = LogisticRegression(class_weight='balanced', solver='liblinear', penalty='l1', C=0.5)\n",
    "CV_pipe = Pipeline([('TFIDF', TFIDF) , ('LR', LR1)] )\n",
    "results = cross_validate(CV_pipe, X, y, cv=kfold, scoring='accuracy', return_train_score=True)\n",
    "\n",
    "print(np.round((results['train_score'].mean())*100, 2), np.round((results['train_score'].std())*100, 2)) \n",
    "\n",
    "print(np.round((results['test_score'].mean())*100, 2), np.round((results['test_score'].std())*100, 2)) \n",
    "\n",
    "TFIDF.fit_transform(X)\n",
    "len(TFIDF.vocabulary_)  # no. of features AFTER applying the stopwords"
   ]
  },
  {
   "cell_type": "code",
   "execution_count": 68,
   "id": "87a67bfd",
   "metadata": {},
   "outputs": [
    {
     "name": "stdout",
     "output_type": "stream",
     "text": [
      "87.99 0.26\n",
      "87.07 0.78\n"
     ]
    },
    {
     "data": {
      "text/plain": [
       "15955"
      ]
     },
     "execution_count": 68,
     "metadata": {},
     "output_type": "execute_result"
    }
   ],
   "source": [
    "from sklearn.decomposition import TruncatedSVD\n",
    "\n",
    "X = df['tweets_having_swords']\n",
    "y = df['label']\n",
    "\n",
    "TFIDF = TfidfVectorizer()  # will originally have 15955 features\n",
    "SVD = TruncatedSVD(n_components=1000)  # reduce it to 1000 PCs\n",
    "\n",
    "LR1 = LogisticRegression(class_weight='balanced', solver='liblinear', penalty='l1', C=0.5)\n",
    "CV_pipe = Pipeline([('TFIDF', TFIDF), ('SVD', SVD), ('LR', LR1)] )\n",
    "results = cross_validate(CV_pipe, X, y, cv=kfold, scoring='accuracy', return_train_score=True)\n",
    "\n",
    "# print(results['train_score'])\n",
    "print(np.round((results['train_score'].mean())*100, 2), np.round((results['train_score'].std())*100, 2)) \n",
    "\n",
    "# print(results['test_score'])\n",
    "print(np.round((results['test_score'].mean())*100, 2), np.round((results['test_score'].std())*100, 2)) \n",
    "\n",
    "TFIDF.fit_transform(X)\n",
    "len(TFIDF.vocabulary_) "
   ]
  },
  {
   "cell_type": "code",
   "execution_count": 69,
   "id": "393fad82",
   "metadata": {},
   "outputs": [
    {
     "data": {
      "text/plain": [
       "{'TFIDF': TfidfVectorizer(),\n",
       " 'SVD': TruncatedSVD(n_components=1000),\n",
       " 'LR': LogisticRegression(C=0.5, class_weight='balanced', penalty='l1',\n",
       "                    solver='liblinear')}"
      ]
     },
     "execution_count": 69,
     "metadata": {},
     "output_type": "execute_result"
    }
   ],
   "source": [
    "CV_pipe.named_steps"
   ]
  },
  {
   "cell_type": "code",
   "execution_count": 70,
   "id": "e408f697",
   "metadata": {},
   "outputs": [
    {
     "name": "stdout",
     "output_type": "stream",
     "text": [
      "89.68 0.32\n",
      "87.26 0.77\n"
     ]
    },
    {
     "data": {
      "text/plain": [
       "3429"
      ]
     },
     "execution_count": 70,
     "metadata": {},
     "output_type": "execute_result"
    }
   ],
   "source": [
    "#n gram models\n",
    "X = df['tweets_having_swords']\n",
    "y = df['label']\n",
    "\n",
    "CV = CountVectorizer(stop_words='english',  ngram_range=(1, 2), min_df=5)\n",
    "\n",
    "LR1 = LogisticRegression(class_weight='balanced', solver='liblinear', penalty='l1', C=0.5)\n",
    "CV_pipe = Pipeline([('CV', CV) , ('LR', LR1)] )\n",
    "results = cross_validate(CV_pipe, X, y, cv=kfold, scoring='accuracy', return_train_score=True)\n",
    "\n",
    "print(np.round((results['train_score'].mean())*100, 2), np.round((results['train_score'].std())*100, 2)) \n",
    "\n",
    "print(np.round((results['test_score'].mean())*100, 2), np.round((results['test_score'].std())*100, 2)) \n",
    "\n",
    "CV.fit_transform(X)\n",
    "len(CV.vocabulary_)  "
   ]
  },
  {
   "cell_type": "code",
   "execution_count": 71,
   "id": "ccd4b2a2",
   "metadata": {},
   "outputs": [
    {
     "data": {
      "text/plain": [
       "{'CV': CountVectorizer(min_df=5, ngram_range=(1, 2), stop_words='english'),\n",
       " 'LR': LogisticRegression(C=0.5, class_weight='balanced', penalty='l1',\n",
       "                    solver='liblinear')}"
      ]
     },
     "execution_count": 71,
     "metadata": {},
     "output_type": "execute_result"
    }
   ],
   "source": [
    "CV_pipe.named_steps"
   ]
  },
  {
   "cell_type": "code",
   "execution_count": 72,
   "id": "29b410bf",
   "metadata": {},
   "outputs": [
    {
     "name": "stdout",
     "output_type": "stream",
     "text": [
      "Requirement already satisfied: mglearn in ./anaconda3/lib/python3.10/site-packages (0.2.0)\n",
      "Requirement already satisfied: pillow in ./anaconda3/lib/python3.10/site-packages (from mglearn) (9.4.0)\n",
      "Requirement already satisfied: numpy in ./anaconda3/lib/python3.10/site-packages (from mglearn) (1.23.5)\n",
      "Requirement already satisfied: scikit-learn in ./anaconda3/lib/python3.10/site-packages (from mglearn) (1.2.1)\n",
      "Requirement already satisfied: matplotlib in ./anaconda3/lib/python3.10/site-packages (from mglearn) (3.7.0)\n",
      "Requirement already satisfied: imageio in ./anaconda3/lib/python3.10/site-packages (from mglearn) (2.26.0)\n",
      "Requirement already satisfied: cycler in ./anaconda3/lib/python3.10/site-packages (from mglearn) (0.11.0)\n",
      "Requirement already satisfied: pandas in ./anaconda3/lib/python3.10/site-packages (from mglearn) (1.5.3)\n",
      "Requirement already satisfied: joblib in ./anaconda3/lib/python3.10/site-packages (from mglearn) (1.1.1)\n",
      "Requirement already satisfied: kiwisolver>=1.0.1 in ./anaconda3/lib/python3.10/site-packages (from matplotlib->mglearn) (1.4.4)\n",
      "Requirement already satisfied: packaging>=20.0 in ./anaconda3/lib/python3.10/site-packages (from matplotlib->mglearn) (22.0)\n",
      "Requirement already satisfied: pyparsing>=2.3.1 in ./anaconda3/lib/python3.10/site-packages (from matplotlib->mglearn) (3.0.9)\n",
      "Requirement already satisfied: contourpy>=1.0.1 in ./anaconda3/lib/python3.10/site-packages (from matplotlib->mglearn) (1.0.5)\n",
      "Requirement already satisfied: python-dateutil>=2.7 in ./anaconda3/lib/python3.10/site-packages (from matplotlib->mglearn) (2.8.2)\n",
      "Requirement already satisfied: fonttools>=4.22.0 in ./anaconda3/lib/python3.10/site-packages (from matplotlib->mglearn) (4.25.0)\n",
      "Requirement already satisfied: pytz>=2020.1 in ./anaconda3/lib/python3.10/site-packages (from pandas->mglearn) (2022.7)\n",
      "Requirement already satisfied: threadpoolctl>=2.0.0 in ./anaconda3/lib/python3.10/site-packages (from scikit-learn->mglearn) (2.2.0)\n",
      "Requirement already satisfied: scipy>=1.3.2 in ./anaconda3/lib/python3.10/site-packages (from scikit-learn->mglearn) (1.10.0)\n",
      "Requirement already satisfied: six>=1.5 in ./anaconda3/lib/python3.10/site-packages (from python-dateutil>=2.7->matplotlib->mglearn) (1.16.0)\n"
     ]
    }
   ],
   "source": [
    "!pip install mglearn\n",
    "import mglearn"
   ]
  },
  {
   "cell_type": "code",
   "execution_count": 73,
   "id": "9798ee36",
   "metadata": {},
   "outputs": [
    {
     "data": {
      "image/png": "[encoded data removed]",
      "text/plain": [
       "<Figure size 1500x500 with 1 Axes>"
      ]
     },
     "metadata": {},
     "output_type": "display_data"
    }
   ],
   "source": [
    "# Most important features when using unigrams, bigrams, and trigrams with tf-idf rescaling\n",
    "\n",
    "# extract feature names and coefficients for Unigram Model\n",
    "# CV = CV_pipe.named_steps['CV']\n",
    "feature_names = np.array(CV.get_feature_names_out())\n",
    "# LR = CV_pipe.named_steps['LR']\n",
    "\n",
    "\n",
    "LR1.fit(CV.fit_transform(X), y)\n",
    "coef = LR1.coef_\n",
    "mglearn.tools.visualize_coefficients(coef, feature_names, n_top_features=10)"
   ]
  },
  {
   "cell_type": "code",
   "execution_count": 74,
   "id": "c3292766",
   "metadata": {},
   "outputs": [
    {
     "data": {
      "image/png": "[encoded data removed]",
      "text/plain": [
       "<Figure size 1500x500 with 1 Axes>"
      ]
     },
     "metadata": {},
     "output_type": "display_data"
    }
   ],
   "source": [
    "# Visualizing only the trigrams\n",
    "# find 2-gram features\n",
    "mask = np.array([len(feature.split(\" \")) for feature in feature_names]) == 2\n",
    "\n",
    "LR1.fit(CV.fit_transform(X), y)\n",
    "coef = LR1.coef_\n",
    "\n",
    "# visualize only 2-gram features\n",
    "mglearn.tools.visualize_coefficients(coef.ravel()[mask], feature_names[mask], n_top_features=10)"
   ]
  },
  {
   "cell_type": "code",
   "execution_count": 75,
   "id": "61559900",
   "metadata": {},
   "outputs": [
    {
     "name": "stdout",
     "output_type": "stream",
     "text": [
      "89.68 0.33\n",
      "87.26 0.77\n"
     ]
    },
    {
     "data": {
      "text/plain": [
       "4033"
      ]
     },
     "execution_count": 75,
     "metadata": {},
     "output_type": "execute_result"
    }
   ],
   "source": [
    "# Unigrams + Bigrams + Trigrams\n",
    "X = df['tweets_having_swords']\n",
    "y = df['label']\n",
    "\n",
    "CV = CountVectorizer(stop_words='english',  ngram_range=(1, 3), min_df=5)\n",
    "\n",
    "LR1 = LogisticRegression(class_weight='balanced', solver='liblinear', penalty='l1', C=0.5)\n",
    "CV_pipe = Pipeline([('CV', CV) , ('LR', LR1)] )\n",
    "results = cross_validate(CV_pipe, X, y, cv=kfold, scoring='accuracy', return_train_score=True)\n",
    "\n",
    "# print(results['train_score'])\n",
    "print(np.round((results['train_score'].mean())*100, 2), np.round((results['train_score'].std())*100, 2)) \n",
    "\n",
    "# print(results['test_score'])\n",
    "print(np.round((results['test_score'].mean())*100, 2), np.round((results['test_score'].std())*100, 2)) \n",
    "\n",
    "CV.fit_transform(X)\n",
    "len(CV.vocabulary_)  # no. of features AFTER applying the stopwords"
   ]
  },
  {
   "cell_type": "code",
   "execution_count": 76,
   "id": "fe3c3f90",
   "metadata": {},
   "outputs": [
    {
     "data": {
      "text/plain": [
       "(3429, 3429)"
      ]
     },
     "execution_count": 76,
     "metadata": {},
     "output_type": "execute_result"
    }
   ],
   "source": [
    "len(coef.ravel()), len(feature_names)"
   ]
  },
  {
   "cell_type": "code",
   "execution_count": 77,
   "id": "1f0a6343",
   "metadata": {},
   "outputs": [
    {
     "name": "stdout",
     "output_type": "stream",
     "text": [
      "Requirement already satisfied: gensim in ./anaconda3/lib/python3.10/site-packages (4.3.0)\r\n",
      "Requirement already satisfied: scipy>=1.7.0 in ./anaconda3/lib/python3.10/site-packages (from gensim) (1.10.0)\r\n",
      "Requirement already satisfied: numpy>=1.18.5 in ./anaconda3/lib/python3.10/site-packages (from gensim) (1.23.5)\r\n",
      "Requirement already satisfied: FuzzyTM>=0.4.0 in ./anaconda3/lib/python3.10/site-packages (from gensim) (2.0.5)\r\n",
      "Requirement already satisfied: smart-open>=1.8.1 in ./anaconda3/lib/python3.10/site-packages (from gensim) (5.2.1)\r\n",
      "Requirement already satisfied: pyfume in ./anaconda3/lib/python3.10/site-packages (from FuzzyTM>=0.4.0->gensim) (0.2.25)\r\n",
      "Requirement already satisfied: pandas in ./anaconda3/lib/python3.10/site-packages (from FuzzyTM>=0.4.0->gensim) (1.5.3)\r\n",
      "Requirement already satisfied: python-dateutil>=2.8.1 in ./anaconda3/lib/python3.10/site-packages (from pandas->FuzzyTM>=0.4.0->gensim) (2.8.2)\r\n",
      "Requirement already satisfied: pytz>=2020.1 in ./anaconda3/lib/python3.10/site-packages (from pandas->FuzzyTM>=0.4.0->gensim) (2022.7)\r\n",
      "Requirement already satisfied: fst-pso in ./anaconda3/lib/python3.10/site-packages (from pyfume->FuzzyTM>=0.4.0->gensim) (1.8.1)\r\n",
      "Requirement already satisfied: simpful in ./anaconda3/lib/python3.10/site-packages (from pyfume->FuzzyTM>=0.4.0->gensim) (2.11.0)\r\n",
      "Requirement already satisfied: six>=1.5 in ./anaconda3/lib/python3.10/site-packages (from python-dateutil>=2.8.1->pandas->FuzzyTM>=0.4.0->gensim) (1.16.0)\r\n",
      "Requirement already satisfied: miniful in ./anaconda3/lib/python3.10/site-packages (from fst-pso->pyfume->FuzzyTM>=0.4.0->gensim) (0.0.6)\r\n"
     ]
    }
   ],
   "source": [
    "#now using word embeddings\n",
    "!pip install gensim "
   ]
  },
  {
   "cell_type": "code",
   "execution_count": 78,
   "id": "b875c50e",
   "metadata": {},
   "outputs": [
    {
     "data": {
      "text/plain": [
       "['fingerprint',\n",
       " 'pregnancy',\n",
       " 'test',\n",
       " 'android',\n",
       " 'apps',\n",
       " 'beautiful',\n",
       " 'cute',\n",
       " 'health',\n",
       " 'igers',\n",
       " 'iphoneonly',\n",
       " 'iphonesia',\n",
       " 'iphone']"
      ]
     },
     "execution_count": 78,
     "metadata": {},
     "output_type": "execute_result"
    }
   ],
   "source": [
    "tweets_list = list(df['tweets_having_swords'].apply(lambda x: x.split()))\n",
    "tweets_list[0] "
   ]
  },
  {
   "cell_type": "code",
   "execution_count": 79,
   "id": "bf8418bc",
   "metadata": {},
   "outputs": [],
   "source": [
    "from gensim.models import Word2Vec\n",
    "# train model\n",
    "cbow_model = Word2Vec(tweets_list, vector_size = 300, window = 3, min_count=5, sg=0)"
   ]
  },
  {
   "cell_type": "code",
   "execution_count": 80,
   "id": "8fe64c09",
   "metadata": {},
   "outputs": [
    {
     "name": "stdout",
     "output_type": "stream",
     "text": [
      "Word2Vec<vocab=2420, vector_size=300, alpha=0.025>\n"
     ]
    }
   ],
   "source": [
    "print(cbow_model)"
   ]
  },
  {
   "cell_type": "code",
   "execution_count": 81,
   "id": "215ce33e",
   "metadata": {},
   "outputs": [
    {
     "data": {
      "text/plain": [
       "['iphone',\n",
       " 'apple',\n",
       " 'i',\n",
       " 'my',\n",
       " 'the',\n",
       " 'to',\n",
       " 'a',\n",
       " 'is',\n",
       " 'samsung',\n",
       " 'it',\n",
       " 'and',\n",
       " 'you',\n",
       " 'new',\n",
       " 'twitter',\n",
       " 'for',\n",
       " 'com',\n",
       " 'phone',\n",
       " 'me',\n",
       " 'sony',\n",
       " 'not']"
      ]
     },
     "execution_count": 81,
     "metadata": {},
     "output_type": "execute_result"
    }
   ],
   "source": [
    "cbow_model.wv.index_to_key[:20]"
   ]
  },
  {
   "cell_type": "code",
   "execution_count": 82,
   "id": "76af0940",
   "metadata": {},
   "outputs": [],
   "source": [
    "def document_vector(doc):\n",
    "    \"\"\"Create document vectors by averaging word vectors. Remove out-of-vocabulary words.\"\"\"\n",
    "    \n",
    "    # doc1 contains those words of the document which are included in the vocab\n",
    "    doc1 = [word for word in doc.split() if word in cbow_model.wv.index_to_key]\n",
    "    \n",
    "    wv1 = []  # this will contain the WE of all the vocab words from the doc\n",
    "    for word in doc1:\n",
    "        wv1.append(cbow_model.wv.get_vector(word))\n",
    "    wv1_ = np.array(wv1)\n",
    "    wv1_mean = wv1_.mean(axis=0)\n",
    "    return wv1_mean\n"
   ]
  },
  {
   "cell_type": "code",
   "execution_count": 83,
   "id": "6e55f89f",
   "metadata": {},
   "outputs": [],
   "source": [
    "tweets_temp = df['tweets_having_swords'].apply(document_vector)"
   ]
  },
  {
   "cell_type": "code",
   "execution_count": 84,
   "id": "80605df4",
   "metadata": {},
   "outputs": [
    {
     "data": {
      "text/plain": [
       "0    [0.040095273, 0.272215, -0.023567973, 0.066689...\n",
       "1    [-0.03361573, 0.21174955, -0.031294186, 0.0532...\n",
       "2    [-0.0030170071, 0.16637136, 0.044696, 0.153368...\n",
       "3    [0.025781957, 0.17104255, 0.05196487, 0.212437...\n",
       "4    [-0.0009693787, 0.16305266, 0.029677456, 0.184...\n",
       "Name: tweets_having_swords, dtype: object"
      ]
     },
     "execution_count": 84,
     "metadata": {},
     "output_type": "execute_result"
    }
   ],
   "source": [
    "tweets_temp[:5]"
   ]
  },
  {
   "cell_type": "code",
   "execution_count": 85,
   "id": "d8e9173d",
   "metadata": {},
   "outputs": [
    {
     "data": {
      "text/plain": [
       "(300,)"
      ]
     },
     "execution_count": 85,
     "metadata": {},
     "output_type": "execute_result"
    }
   ],
   "source": [
    "tweets_temp[0].shape"
   ]
  },
  {
   "cell_type": "code",
   "execution_count": 86,
   "id": "4507ce5e",
   "metadata": {},
   "outputs": [
    {
     "data": {
      "text/plain": [
       "pandas.core.series.Series"
      ]
     },
     "execution_count": 86,
     "metadata": {},
     "output_type": "execute_result"
    }
   ],
   "source": [
    "type(tweets_temp)"
   ]
  },
  {
   "cell_type": "code",
   "execution_count": 87,
   "id": "d93cb562",
   "metadata": {},
   "outputs": [
    {
     "data": {
      "text/plain": [
       "(7920, 300)"
      ]
     },
     "execution_count": 87,
     "metadata": {},
     "output_type": "execute_result"
    }
   ],
   "source": [
    "embedding_size = 300\n",
    "tweets_vec = np.ones((len(tweets_temp), embedding_size))*np.nan\n",
    "for i in range(tweets_vec.shape[0]):\n",
    "    tweets_vec[i,:] = tweets_temp.iloc[i]\n",
    "\n",
    "tweets_vec.shape # this itself is your final FEATURE MATRIX"
   ]
  },
  {
   "cell_type": "code",
   "execution_count": 88,
   "id": "79634961",
   "metadata": {},
   "outputs": [],
   "source": [
    "# Create a new DF to store these new documnent features\n",
    "df2 = pd.DataFrame(tweets_vec)\n",
    "df2['y'] = df['label']\n",
    "df2.dropna(how='any', axis=0, inplace=True)"
   ]
  },
  {
   "cell_type": "code",
   "execution_count": 89,
   "id": "f6cedb20",
   "metadata": {},
   "outputs": [
    {
     "data": {
      "text/html": [
       "<div>\n",
       "<style scoped>\n",
       "    .dataframe tbody tr th:only-of-type {\n",
       "        vertical-align: middle;\n",
       "    }\n",
       "\n",
       "    .dataframe tbody tr th {\n",
       "        vertical-align: top;\n",
       "    }\n",
       "\n",
       "    .dataframe thead th {\n",
       "        text-align: right;\n",
       "    }\n",
       "</style>\n",
       "<table border=\"1\" class=\"dataframe\">\n",
       "  <thead>\n",
       "    <tr style=\"text-align: right;\">\n",
       "      <th></th>\n",
       "      <th>0</th>\n",
       "      <th>1</th>\n",
       "      <th>2</th>\n",
       "      <th>3</th>\n",
       "      <th>4</th>\n",
       "      <th>5</th>\n",
       "      <th>6</th>\n",
       "      <th>7</th>\n",
       "      <th>8</th>\n",
       "      <th>9</th>\n",
       "      <th>...</th>\n",
       "      <th>291</th>\n",
       "      <th>292</th>\n",
       "      <th>293</th>\n",
       "      <th>294</th>\n",
       "      <th>295</th>\n",
       "      <th>296</th>\n",
       "      <th>297</th>\n",
       "      <th>298</th>\n",
       "      <th>299</th>\n",
       "      <th>y</th>\n",
       "    </tr>\n",
       "  </thead>\n",
       "  <tbody>\n",
       "    <tr>\n",
       "      <th>0</th>\n",
       "      <td>0.040095</td>\n",
       "      <td>0.272215</td>\n",
       "      <td>-0.023568</td>\n",
       "      <td>0.066690</td>\n",
       "      <td>0.075260</td>\n",
       "      <td>-0.431905</td>\n",
       "      <td>0.131177</td>\n",
       "      <td>0.549878</td>\n",
       "      <td>-0.095372</td>\n",
       "      <td>0.039916</td>\n",
       "      <td>...</td>\n",
       "      <td>0.297745</td>\n",
       "      <td>0.058963</td>\n",
       "      <td>0.063315</td>\n",
       "      <td>0.221678</td>\n",
       "      <td>0.333238</td>\n",
       "      <td>-0.019572</td>\n",
       "      <td>-0.179931</td>\n",
       "      <td>0.208739</td>\n",
       "      <td>-0.065476</td>\n",
       "      <td>0</td>\n",
       "    </tr>\n",
       "    <tr>\n",
       "      <th>1</th>\n",
       "      <td>-0.033616</td>\n",
       "      <td>0.211750</td>\n",
       "      <td>-0.031294</td>\n",
       "      <td>0.053249</td>\n",
       "      <td>-0.001183</td>\n",
       "      <td>-0.281349</td>\n",
       "      <td>0.171068</td>\n",
       "      <td>0.431182</td>\n",
       "      <td>0.037770</td>\n",
       "      <td>-0.299576</td>\n",
       "      <td>...</td>\n",
       "      <td>0.261476</td>\n",
       "      <td>0.150040</td>\n",
       "      <td>0.012488</td>\n",
       "      <td>0.256052</td>\n",
       "      <td>0.273915</td>\n",
       "      <td>-0.022342</td>\n",
       "      <td>-0.230611</td>\n",
       "      <td>0.168176</td>\n",
       "      <td>-0.145694</td>\n",
       "      <td>0</td>\n",
       "    </tr>\n",
       "    <tr>\n",
       "      <th>2</th>\n",
       "      <td>-0.003017</td>\n",
       "      <td>0.166371</td>\n",
       "      <td>0.044696</td>\n",
       "      <td>0.153368</td>\n",
       "      <td>-0.051536</td>\n",
       "      <td>-0.172826</td>\n",
       "      <td>0.177840</td>\n",
       "      <td>0.461562</td>\n",
       "      <td>0.114119</td>\n",
       "      <td>-0.188202</td>\n",
       "      <td>...</td>\n",
       "      <td>0.249109</td>\n",
       "      <td>0.149406</td>\n",
       "      <td>0.064434</td>\n",
       "      <td>0.283282</td>\n",
       "      <td>0.244597</td>\n",
       "      <td>0.016797</td>\n",
       "      <td>-0.078467</td>\n",
       "      <td>0.095651</td>\n",
       "      <td>-0.121211</td>\n",
       "      <td>0</td>\n",
       "    </tr>\n",
       "    <tr>\n",
       "      <th>3</th>\n",
       "      <td>0.025782</td>\n",
       "      <td>0.171043</td>\n",
       "      <td>0.051965</td>\n",
       "      <td>0.212438</td>\n",
       "      <td>-0.085141</td>\n",
       "      <td>-0.151193</td>\n",
       "      <td>0.217241</td>\n",
       "      <td>0.530055</td>\n",
       "      <td>0.177968</td>\n",
       "      <td>-0.261244</td>\n",
       "      <td>...</td>\n",
       "      <td>0.278793</td>\n",
       "      <td>0.192491</td>\n",
       "      <td>0.076939</td>\n",
       "      <td>0.377814</td>\n",
       "      <td>0.256183</td>\n",
       "      <td>0.038016</td>\n",
       "      <td>-0.052167</td>\n",
       "      <td>0.085498</td>\n",
       "      <td>-0.145209</td>\n",
       "      <td>0</td>\n",
       "    </tr>\n",
       "    <tr>\n",
       "      <th>4</th>\n",
       "      <td>-0.000969</td>\n",
       "      <td>0.163053</td>\n",
       "      <td>0.029677</td>\n",
       "      <td>0.184705</td>\n",
       "      <td>-0.085425</td>\n",
       "      <td>-0.146461</td>\n",
       "      <td>0.204218</td>\n",
       "      <td>0.487448</td>\n",
       "      <td>0.173431</td>\n",
       "      <td>-0.287728</td>\n",
       "      <td>...</td>\n",
       "      <td>0.262377</td>\n",
       "      <td>0.194150</td>\n",
       "      <td>0.055869</td>\n",
       "      <td>0.340980</td>\n",
       "      <td>0.265628</td>\n",
       "      <td>0.032417</td>\n",
       "      <td>-0.083601</td>\n",
       "      <td>0.069820</td>\n",
       "      <td>-0.152677</td>\n",
       "      <td>1</td>\n",
       "    </tr>\n",
       "  </tbody>\n",
       "</table>\n",
       "<p>5 rows × 301 columns</p>\n",
       "</div>"
      ],
      "text/plain": [
       "          0         1         2         3         4         5         6  \\\n",
       "0  0.040095  0.272215 -0.023568  0.066690  0.075260 -0.431905  0.131177   \n",
       "1 -0.033616  0.211750 -0.031294  0.053249 -0.001183 -0.281349  0.171068   \n",
       "2 -0.003017  0.166371  0.044696  0.153368 -0.051536 -0.172826  0.177840   \n",
       "3  0.025782  0.171043  0.051965  0.212438 -0.085141 -0.151193  0.217241   \n",
       "4 -0.000969  0.163053  0.029677  0.184705 -0.085425 -0.146461  0.204218   \n",
       "\n",
       "          7         8         9  ...       291       292       293       294  \\\n",
       "0  0.549878 -0.095372  0.039916  ...  0.297745  0.058963  0.063315  0.221678   \n",
       "1  0.431182  0.037770 -0.299576  ...  0.261476  0.150040  0.012488  0.256052   \n",
       "2  0.461562  0.114119 -0.188202  ...  0.249109  0.149406  0.064434  0.283282   \n",
       "3  0.530055  0.177968 -0.261244  ...  0.278793  0.192491  0.076939  0.377814   \n",
       "4  0.487448  0.173431 -0.287728  ...  0.262377  0.194150  0.055869  0.340980   \n",
       "\n",
       "        295       296       297       298       299  y  \n",
       "0  0.333238 -0.019572 -0.179931  0.208739 -0.065476  0  \n",
       "1  0.273915 -0.022342 -0.230611  0.168176 -0.145694  0  \n",
       "2  0.244597  0.016797 -0.078467  0.095651 -0.121211  0  \n",
       "3  0.256183  0.038016 -0.052167  0.085498 -0.145209  0  \n",
       "4  0.265628  0.032417 -0.083601  0.069820 -0.152677  1  \n",
       "\n",
       "[5 rows x 301 columns]"
      ]
     },
     "execution_count": 89,
     "metadata": {},
     "output_type": "execute_result"
    }
   ],
   "source": [
    "df2.head()"
   ]
  },
  {
   "cell_type": "code",
   "execution_count": 90,
   "id": "c0b0b245",
   "metadata": {},
   "outputs": [
    {
     "data": {
      "text/plain": [
       "(7920, 301)"
      ]
     },
     "execution_count": 90,
     "metadata": {},
     "output_type": "execute_result"
    }
   ],
   "source": [
    "df2.shape"
   ]
  },
  {
   "cell_type": "code",
   "execution_count": 91,
   "id": "af80be31",
   "metadata": {},
   "outputs": [
    {
     "data": {
      "text/plain": [
       "(7920, 300)"
      ]
     },
     "execution_count": 91,
     "metadata": {},
     "output_type": "execute_result"
    }
   ],
   "source": [
    "X_word_emb = df2.drop('y', axis=1)\n",
    "y = df2['y']\n",
    "X_word_emb.shape"
   ]
  },
  {
   "cell_type": "code",
   "execution_count": 92,
   "id": "bd3ec31f",
   "metadata": {},
   "outputs": [],
   "source": [
    "from sklearn.pipeline import make_pipeline, Pipeline\n",
    "from sklearn.linear_model import LogisticRegression\n",
    "from sklearn.model_selection import cross_val_score, cross_validate\n",
    "from sklearn.model_selection import StratifiedKFold\n",
    "from sklearn.preprocessing import StandardScaler\n",
    "from sklearn.feature_extraction.text import CountVectorizer"
   ]
  },
  {
   "cell_type": "code",
   "execution_count": 93,
   "id": "e7610bfa",
   "metadata": {},
   "outputs": [
    {
     "name": "stdout",
     "output_type": "stream",
     "text": [
      "85.73 0.23\n",
      "85.57 0.67\n"
     ]
    }
   ],
   "source": [
    "kfold = StratifiedKFold(n_splits=5, shuffle=True, random_state=42)\n",
    "LR1 = LogisticRegression(class_weight='balanced', solver='liblinear', penalty='l1', C=0.5, random_state=42)\n",
    "WE_pipe = Pipeline([('SC', StandardScaler()), ('LR', LR1)] )\n",
    "\n",
    "results = cross_validate(WE_pipe, X_word_emb, y, cv=kfold, scoring='accuracy', return_train_score=True)\n",
    "\n",
    "# print(results['train_score'])\n",
    "print(np.round((results['train_score'].mean())*100, 2), np.round((results['train_score'].std())*100, 2)) \n",
    "\n",
    "# print(results['test_score'])\n",
    "print(np.round((results['test_score'].mean())*100, 2), np.round((results['test_score'].std())*100, 2)) "
   ]
  },
  {
   "cell_type": "code",
   "execution_count": 94,
   "id": "230a555d",
   "metadata": {},
   "outputs": [
    {
     "name": "stdout",
     "output_type": "stream",
     "text": [
      "89.08 0.08\n",
      "87.8 0.92\n"
     ]
    },
    {
     "data": {
      "text/plain": [
       "300"
      ]
     },
     "execution_count": 94,
     "metadata": {},
     "output_type": "execute_result"
    }
   ],
   "source": [
    "X = df['tweets_having_swords']\n",
    "y = df['label']\n",
    "\n",
    "CV = CountVectorizer(min_df=5, max_features=300)\n",
    "\n",
    "LR1 = LogisticRegression(class_weight='balanced', solver='liblinear', penalty='l1', C=0.5)\n",
    "CV_pipe = Pipeline([('CV', CV) , ('LR', LR1)] )\n",
    "results = cross_validate(CV_pipe, X, y, cv=kfold, scoring='accuracy', return_train_score=True)\n",
    "\n",
    "print(np.round((results['train_score'].mean())*100, 2), np.round((results['train_score'].std())*100, 2)) \n",
    "\n",
    "print(np.round((results['test_score'].mean())*100, 2), np.round((results['test_score'].std())*100, 2)) \n",
    "\n",
    "CV.fit_transform(X)\n",
    "len(CV.vocabulary_)  "
   ]
  },
  {
   "cell_type": "code",
   "execution_count": 95,
   "id": "2875e0f6",
   "metadata": {},
   "outputs": [],
   "source": [
    "#using glove model\n",
    "from gensim.models import KeyedVectors\n",
    "from gensim.scripts.glove2word2vec import glove2word2vec"
   ]
  },
  {
   "cell_type": "code",
   "execution_count": 96,
   "id": "9e382e61",
   "metadata": {},
   "outputs": [
    {
     "name": "stdout",
     "output_type": "stream",
     "text": [
      "Requirement already satisfied: tensorflow in ./anaconda3/lib/python3.10/site-packages (2.13.0)\n",
      "Requirement already satisfied: tensorflow-macos==2.13.0 in ./anaconda3/lib/python3.10/site-packages (from tensorflow) (2.13.0)\n",
      "Requirement already satisfied: google-pasta>=0.1.1 in ./anaconda3/lib/python3.10/site-packages (from tensorflow-macos==2.13.0->tensorflow) (0.2.0)\n",
      "Requirement already satisfied: absl-py>=1.0.0 in ./anaconda3/lib/python3.10/site-packages (from tensorflow-macos==2.13.0->tensorflow) (1.4.0)\n",
      "Requirement already satisfied: wrapt>=1.11.0 in ./anaconda3/lib/python3.10/site-packages (from tensorflow-macos==2.13.0->tensorflow) (1.14.1)\n",
      "Requirement already satisfied: astunparse>=1.6.0 in ./anaconda3/lib/python3.10/site-packages (from tensorflow-macos==2.13.0->tensorflow) (1.6.3)\n",
      "Requirement already satisfied: tensorboard<2.14,>=2.13 in ./anaconda3/lib/python3.10/site-packages (from tensorflow-macos==2.13.0->tensorflow) (2.13.0)\n",
      "Requirement already satisfied: setuptools in ./anaconda3/lib/python3.10/site-packages (from tensorflow-macos==2.13.0->tensorflow) (65.6.3)\n",
      "Requirement already satisfied: tensorflow-estimator<2.14,>=2.13.0 in ./anaconda3/lib/python3.10/site-packages (from tensorflow-macos==2.13.0->tensorflow) (2.13.0)\n",
      "Requirement already satisfied: protobuf!=4.21.0,!=4.21.1,!=4.21.2,!=4.21.3,!=4.21.4,!=4.21.5,<5.0.0dev,>=3.20.3 in ./anaconda3/lib/python3.10/site-packages (from tensorflow-macos==2.13.0->tensorflow) (4.24.1)\n",
      "Requirement already satisfied: flatbuffers>=23.1.21 in ./anaconda3/lib/python3.10/site-packages (from tensorflow-macos==2.13.0->tensorflow) (23.5.26)\n",
      "Requirement already satisfied: h5py>=2.9.0 in ./anaconda3/lib/python3.10/site-packages (from tensorflow-macos==2.13.0->tensorflow) (3.7.0)\n",
      "Requirement already satisfied: grpcio<2.0,>=1.24.3 in ./anaconda3/lib/python3.10/site-packages (from tensorflow-macos==2.13.0->tensorflow) (1.57.0)\n",
      "Requirement already satisfied: packaging in ./anaconda3/lib/python3.10/site-packages (from tensorflow-macos==2.13.0->tensorflow) (22.0)\n",
      "Requirement already satisfied: six>=1.12.0 in ./anaconda3/lib/python3.10/site-packages (from tensorflow-macos==2.13.0->tensorflow) (1.16.0)\n",
      "Requirement already satisfied: termcolor>=1.1.0 in ./anaconda3/lib/python3.10/site-packages (from tensorflow-macos==2.13.0->tensorflow) (2.3.0)\n",
      "Requirement already satisfied: gast<=0.4.0,>=0.2.1 in ./anaconda3/lib/python3.10/site-packages (from tensorflow-macos==2.13.0->tensorflow) (0.4.0)\n",
      "Requirement already satisfied: typing-extensions<4.6.0,>=3.6.6 in ./anaconda3/lib/python3.10/site-packages (from tensorflow-macos==2.13.0->tensorflow) (4.4.0)\n",
      "Requirement already satisfied: numpy<=1.24.3,>=1.22 in ./anaconda3/lib/python3.10/site-packages (from tensorflow-macos==2.13.0->tensorflow) (1.23.5)\n",
      "Requirement already satisfied: opt-einsum>=2.3.2 in ./anaconda3/lib/python3.10/site-packages (from tensorflow-macos==2.13.0->tensorflow) (3.3.0)\n",
      "Requirement already satisfied: keras<2.14,>=2.13.1 in ./anaconda3/lib/python3.10/site-packages (from tensorflow-macos==2.13.0->tensorflow) (2.13.1)\n",
      "Requirement already satisfied: libclang>=13.0.0 in ./anaconda3/lib/python3.10/site-packages (from tensorflow-macos==2.13.0->tensorflow) (16.0.6)\n",
      "Requirement already satisfied: wheel<1.0,>=0.23.0 in ./anaconda3/lib/python3.10/site-packages (from astunparse>=1.6.0->tensorflow-macos==2.13.0->tensorflow) (0.38.4)\n",
      "Requirement already satisfied: google-auth-oauthlib<1.1,>=0.5 in ./anaconda3/lib/python3.10/site-packages (from tensorboard<2.14,>=2.13->tensorflow-macos==2.13.0->tensorflow) (1.0.0)\n",
      "Requirement already satisfied: requests<3,>=2.21.0 in ./anaconda3/lib/python3.10/site-packages (from tensorboard<2.14,>=2.13->tensorflow-macos==2.13.0->tensorflow) (2.28.1)\n",
      "Requirement already satisfied: google-auth<3,>=1.6.3 in ./anaconda3/lib/python3.10/site-packages (from tensorboard<2.14,>=2.13->tensorflow-macos==2.13.0->tensorflow) (2.22.0)\n",
      "Requirement already satisfied: tensorboard-data-server<0.8.0,>=0.7.0 in ./anaconda3/lib/python3.10/site-packages (from tensorboard<2.14,>=2.13->tensorflow-macos==2.13.0->tensorflow) (0.7.1)\n",
      "Requirement already satisfied: markdown>=2.6.8 in ./anaconda3/lib/python3.10/site-packages (from tensorboard<2.14,>=2.13->tensorflow-macos==2.13.0->tensorflow) (3.4.1)\n",
      "Requirement already satisfied: werkzeug>=1.0.1 in ./anaconda3/lib/python3.10/site-packages (from tensorboard<2.14,>=2.13->tensorflow-macos==2.13.0->tensorflow) (2.2.2)\n",
      "Requirement already satisfied: urllib3<2.0 in ./anaconda3/lib/python3.10/site-packages (from google-auth<3,>=1.6.3->tensorboard<2.14,>=2.13->tensorflow-macos==2.13.0->tensorflow) (1.26.14)\n",
      "Requirement already satisfied: cachetools<6.0,>=2.0.0 in ./anaconda3/lib/python3.10/site-packages (from google-auth<3,>=1.6.3->tensorboard<2.14,>=2.13->tensorflow-macos==2.13.0->tensorflow) (5.3.1)\n",
      "Requirement already satisfied: rsa<5,>=3.1.4 in ./anaconda3/lib/python3.10/site-packages (from google-auth<3,>=1.6.3->tensorboard<2.14,>=2.13->tensorflow-macos==2.13.0->tensorflow) (4.9)\n",
      "Requirement already satisfied: pyasn1-modules>=0.2.1 in ./anaconda3/lib/python3.10/site-packages (from google-auth<3,>=1.6.3->tensorboard<2.14,>=2.13->tensorflow-macos==2.13.0->tensorflow) (0.2.8)\n",
      "Requirement already satisfied: requests-oauthlib>=0.7.0 in ./anaconda3/lib/python3.10/site-packages (from google-auth-oauthlib<1.1,>=0.5->tensorboard<2.14,>=2.13->tensorflow-macos==2.13.0->tensorflow) (1.3.1)\n",
      "Requirement already satisfied: charset-normalizer<3,>=2 in ./anaconda3/lib/python3.10/site-packages (from requests<3,>=2.21.0->tensorboard<2.14,>=2.13->tensorflow-macos==2.13.0->tensorflow) (2.0.4)\n",
      "Requirement already satisfied: idna<4,>=2.5 in ./anaconda3/lib/python3.10/site-packages (from requests<3,>=2.21.0->tensorboard<2.14,>=2.13->tensorflow-macos==2.13.0->tensorflow) (3.4)\n",
      "Requirement already satisfied: certifi>=2017.4.17 in ./anaconda3/lib/python3.10/site-packages (from requests<3,>=2.21.0->tensorboard<2.14,>=2.13->tensorflow-macos==2.13.0->tensorflow) (2022.12.7)\n",
      "Requirement already satisfied: MarkupSafe>=2.1.1 in ./anaconda3/lib/python3.10/site-packages (from werkzeug>=1.0.1->tensorboard<2.14,>=2.13->tensorflow-macos==2.13.0->tensorflow) (2.1.1)\n",
      "Requirement already satisfied: pyasn1<0.5.0,>=0.4.6 in ./anaconda3/lib/python3.10/site-packages (from pyasn1-modules>=0.2.1->google-auth<3,>=1.6.3->tensorboard<2.14,>=2.13->tensorflow-macos==2.13.0->tensorflow) (0.4.8)\n",
      "Requirement already satisfied: oauthlib>=3.0.0 in ./anaconda3/lib/python3.10/site-packages (from requests-oauthlib>=0.7.0->google-auth-oauthlib<1.1,>=0.5->tensorboard<2.14,>=2.13->tensorflow-macos==2.13.0->tensorflow) (3.2.2)\n",
      "Note: you may need to restart the kernel to use updated packages.\n"
     ]
    }
   ],
   "source": [
    "pip install tensorflow"
   ]
  },
  {
   "cell_type": "code",
   "execution_count": 97,
   "id": "783e28a7",
   "metadata": {},
   "outputs": [],
   "source": [
    "# Simple Deep Learning Model with OHE (Binary) Features\n",
    "import tensorflow \n",
    "from tensorflow import keras\n",
    "# from keras.utils.vis_utils import plot_model\n",
    "from keras.models import Sequential\n",
    "from keras.layers import Dense, Dropout\n",
    "from keras.callbacks import ModelCheckpoint\n",
    "# import pydot\n",
    "import keras.backend as K\n"
   ]
  },
  {
   "cell_type": "code",
   "execution_count": 98,
   "id": "d19835db",
   "metadata": {},
   "outputs": [],
   "source": [
    "def define_model(n_words):\n",
    "    # define network\n",
    "    model = Sequential()\n",
    "    model.add(Dense(64, input_shape=(n_words,), activation='relu', kernel_regularizer='l2'))\n",
    "    model.add(Dropout(0.25))\n",
    "    model.add(Dense(32, activation='relu', kernel_regularizer='l2'))\n",
    "    model.add(Dropout(0.25))\n",
    "    model.add(Dense(1, activation='sigmoid'))\n",
    "    \n",
    "    # compile network\n",
    "    model.compile(loss='binary_crossentropy', optimizer='adam', metrics=['accuracy'], )\n",
    "    \n",
    "    # summarize defined model\n",
    "    model.summary()    \n",
    "#     tf.keras.utils.plot_model(model, to_file='model1.png', show_shapes=True)\n",
    "    return model"
   ]
  },
  {
   "cell_type": "code",
   "execution_count": 99,
   "id": "f7431efe",
   "metadata": {},
   "outputs": [],
   "source": [
    "# evaluate a neural network model\n",
    "def evaluate_model(Xtrain, ytrain, Xtest, ytest):\n",
    "    scores = list()\n",
    "    n_repeats = 5\n",
    "    n_words = Xtest.shape[1]\n",
    "    \n",
    "    for i in range(n_repeats):\n",
    "        # define network\n",
    "        model = define_model(n_words)\n",
    "        \n",
    "        # fit network\n",
    "        model.fit(Xtrain, ytrain, epochs=10, verbose=0)\n",
    "        \n",
    "        # evaluate\n",
    "        _, acc = model.evaluate(Xtest, ytest, verbose=0)\n",
    "        scores.append(acc)\n",
    "        \n",
    "        print('%d accuracy: %s' % ((i+1), acc))\n",
    "    return scores"
   ]
  },
  {
   "cell_type": "code",
   "execution_count": 100,
   "id": "1aeb4138",
   "metadata": {},
   "outputs": [],
   "source": [
    "from keras.preprocessing.text import Tokenizer\n",
    "def create_tokenizer(lines):\n",
    "    tokenizer = Tokenizer() # num_words=1000\n",
    "    tokenizer.fit_on_texts(lines)\n",
    "    return tokenizer"
   ]
  },
  {
   "cell_type": "code",
   "execution_count": 101,
   "id": "6cd9490c",
   "metadata": {},
   "outputs": [],
   "source": [
    "# create the tokenizer\n",
    "train_docs = df['tweets_without_swords']\n",
    "tokenizer = create_tokenizer(train_docs)"
   ]
  },
  {
   "cell_type": "code",
   "execution_count": 102,
   "id": "39bb3746",
   "metadata": {},
   "outputs": [],
   "source": [
    "X = tokenizer.texts_to_matrix(train_docs, mode='binary')"
   ]
  },
  {
   "cell_type": "code",
   "execution_count": 103,
   "id": "b93e5f8c",
   "metadata": {},
   "outputs": [
    {
     "data": {
      "text/plain": [
       "(7920, 15474)"
      ]
     },
     "execution_count": 103,
     "metadata": {},
     "output_type": "execute_result"
    }
   ],
   "source": [
    "X.shape"
   ]
  },
  {
   "cell_type": "code",
   "execution_count": 104,
   "id": "a8a9f0fd",
   "metadata": {},
   "outputs": [],
   "source": [
    "y = df['label']"
   ]
  },
  {
   "cell_type": "code",
   "execution_count": 105,
   "id": "303b98ab",
   "metadata": {},
   "outputs": [
    {
     "data": {
      "text/plain": [
       "((5940, 15955), (1980, 15955))"
      ]
     },
     "execution_count": 105,
     "metadata": {},
     "output_type": "execute_result"
    }
   ],
   "source": [
    "Xtrain, Xtest, ytrain, ytest = train_test_split(X, y,  test_size=0.2,random_state=42) \n",
    "X_train.shape, X_test.shape"
   ]
  },
  {
   "cell_type": "code",
   "execution_count": 106,
   "id": "303ee635",
   "metadata": {},
   "outputs": [
    {
     "name": "stdout",
     "output_type": "stream",
     "text": [
      "Model: \"sequential\"\n",
      "_________________________________________________________________\n",
      " Layer (type)                Output Shape              Param #   \n",
      "=================================================================\n",
      " dense (Dense)               (None, 64)                990400    \n",
      "                                                                 \n",
      " dropout (Dropout)           (None, 64)                0         \n",
      "                                                                 \n",
      " dense_1 (Dense)             (None, 32)                2080      \n",
      "                                                                 \n",
      " dropout_1 (Dropout)         (None, 32)                0         \n",
      "                                                                 \n",
      " dense_2 (Dense)             (None, 1)                 33        \n",
      "                                                                 \n",
      "=================================================================\n",
      "Total params: 992513 (3.79 MB)\n",
      "Trainable params: 992513 (3.79 MB)\n",
      "Non-trainable params: 0 (0.00 Byte)\n",
      "_________________________________________________________________\n"
     ]
    }
   ],
   "source": [
    "# define network\n",
    "K.clear_session() \n",
    "n_words = Xtrain.shape[1]\n",
    "model = define_model(n_words)"
   ]
  },
  {
   "cell_type": "code",
   "execution_count": 107,
   "id": "ec629c5d",
   "metadata": {},
   "outputs": [
    {
     "name": "stdout",
     "output_type": "stream",
     "text": [
      "Epoch 1/15\n",
      "\n",
      "Epoch 1: val_loss improved from inf to 0.83169, saving model to BestModel.h5\n",
      "32/32 - 1s - loss: 1.2182 - accuracy: 0.7417 - val_loss: 0.8317 - val_accuracy: 0.7413 - 571ms/epoch - 18ms/step\n",
      "Epoch 2/15\n"
     ]
    },
    {
     "name": "stderr",
     "output_type": "stream",
     "text": [
      "/Users/divambadaya/anaconda3/lib/python3.10/site-packages/keras/src/engine/training.py:3000: UserWarning: You are saving your model as an HDF5 file via `model.save()`. This file format is considered legacy. We recommend using instead the native Keras format, e.g. `model.save('my_model.keras')`.\n",
      "  saving_api.save_model(\n"
     ]
    },
    {
     "name": "stdout",
     "output_type": "stream",
     "text": [
      "\n",
      "Epoch 2: val_loss improved from 0.83169 to 0.63276, saving model to BestModel.h5\n",
      "32/32 - 0s - loss: 0.7315 - accuracy: 0.7724 - val_loss: 0.6328 - val_accuracy: 0.8644 - 211ms/epoch - 7ms/step\n",
      "Epoch 3/15\n",
      "\n",
      "Epoch 3: val_loss improved from 0.63276 to 0.54176, saving model to BestModel.h5\n",
      "32/32 - 0s - loss: 0.5981 - accuracy: 0.8532 - val_loss: 0.5418 - val_accuracy: 0.8659 - 195ms/epoch - 6ms/step\n",
      "Epoch 4/15\n",
      "\n",
      "Epoch 4: val_loss improved from 0.54176 to 0.48153, saving model to BestModel.h5\n",
      "32/32 - 0s - loss: 0.5215 - accuracy: 0.8744 - val_loss: 0.4815 - val_accuracy: 0.8754 - 209ms/epoch - 7ms/step\n",
      "Epoch 5/15\n",
      "\n",
      "Epoch 5: val_loss improved from 0.48153 to 0.44439, saving model to BestModel.h5\n",
      "32/32 - 0s - loss: 0.4734 - accuracy: 0.8806 - val_loss: 0.4444 - val_accuracy: 0.8770 - 193ms/epoch - 6ms/step\n",
      "Epoch 6/15\n",
      "\n",
      "Epoch 6: val_loss improved from 0.44439 to 0.42009, saving model to BestModel.h5\n",
      "32/32 - 0s - loss: 0.4418 - accuracy: 0.8900 - val_loss: 0.4201 - val_accuracy: 0.8817 - 198ms/epoch - 6ms/step\n",
      "Epoch 7/15\n",
      "\n",
      "Epoch 7: val_loss improved from 0.42009 to 0.40444, saving model to BestModel.h5\n",
      "32/32 - 0s - loss: 0.4145 - accuracy: 0.8971 - val_loss: 0.4044 - val_accuracy: 0.8927 - 202ms/epoch - 6ms/step\n",
      "Epoch 8/15\n",
      "\n",
      "Epoch 8: val_loss improved from 0.40444 to 0.39243, saving model to BestModel.h5\n",
      "32/32 - 0s - loss: 0.3992 - accuracy: 0.8971 - val_loss: 0.3924 - val_accuracy: 0.8817 - 190ms/epoch - 6ms/step\n",
      "Epoch 9/15\n",
      "\n",
      "Epoch 9: val_loss improved from 0.39243 to 0.38442, saving model to BestModel.h5\n",
      "32/32 - 0s - loss: 0.3881 - accuracy: 0.9048 - val_loss: 0.3844 - val_accuracy: 0.8864 - 198ms/epoch - 6ms/step\n",
      "Epoch 10/15\n",
      "\n",
      "Epoch 10: val_loss improved from 0.38442 to 0.37877, saving model to BestModel.h5\n",
      "32/32 - 0s - loss: 0.3750 - accuracy: 0.9051 - val_loss: 0.3788 - val_accuracy: 0.8864 - 200ms/epoch - 6ms/step\n",
      "Epoch 11/15\n",
      "\n",
      "Epoch 11: val_loss did not improve from 0.37877\n",
      "32/32 - 0s - loss: 0.3646 - accuracy: 0.9137 - val_loss: 0.3790 - val_accuracy: 0.8801 - 190ms/epoch - 6ms/step\n",
      "Epoch 12/15\n",
      "\n",
      "Epoch 12: val_loss improved from 0.37877 to 0.37864, saving model to BestModel.h5\n",
      "32/32 - 0s - loss: 0.3636 - accuracy: 0.9107 - val_loss: 0.3786 - val_accuracy: 0.8864 - 204ms/epoch - 6ms/step\n",
      "Epoch 13/15\n",
      "\n",
      "Epoch 13: val_loss improved from 0.37864 to 0.37347, saving model to BestModel.h5\n",
      "32/32 - 0s - loss: 0.3561 - accuracy: 0.9144 - val_loss: 0.3735 - val_accuracy: 0.8754 - 208ms/epoch - 6ms/step\n",
      "Epoch 14/15\n",
      "\n",
      "Epoch 14: val_loss did not improve from 0.37347\n",
      "32/32 - 0s - loss: 0.3514 - accuracy: 0.9183 - val_loss: 0.3741 - val_accuracy: 0.8849 - 221ms/epoch - 7ms/step\n",
      "Epoch 15/15\n",
      "\n",
      "Epoch 15: val_loss improved from 0.37347 to 0.37002, saving model to BestModel.h5\n",
      "32/32 - 0s - loss: 0.3476 - accuracy: 0.9151 - val_loss: 0.3700 - val_accuracy: 0.8896 - 212ms/epoch - 7ms/step\n"
     ]
    }
   ],
   "source": [
    "checkpoint = ModelCheckpoint(\"BestModel.h5\",\n",
    "                             monitor=\"val_loss\", \n",
    "                             mode=\"min\",\n",
    "                             save_best_only = True,\n",
    "                             verbose=1)\n",
    "callbacks = [checkpoint]\n",
    "\n",
    "h = model.fit(Xtrain, ytrain, validation_split=0.1, callbacks = callbacks, batch_size=180, epochs=15, verbose=2)\n"
   ]
  },
  {
   "cell_type": "code",
   "execution_count": 108,
   "id": "43de6c0c",
   "metadata": {},
   "outputs": [
    {
     "data": {
      "text/plain": [
       "Text(0, 0.5, 'Loss Fn valaues')"
      ]
     },
     "execution_count": 108,
     "metadata": {},
     "output_type": "execute_result"
    },
    {
     "data": {
      "image/png": "[encoded data removed]",
      "text/plain": [
       "<Figure size 800x500 with 1 Axes>"
      ]
     },
     "metadata": {},
     "output_type": "display_data"
    }
   ],
   "source": [
    "import matplotlib.pyplot as plt\n",
    "\n",
    "plt.figure(figsize=(8,5))\n",
    "plt.plot(list(range(1,16)), h.history['loss'], label='Training loss')\n",
    "plt.plot(list(range(1,16)), h.history['val_loss'], label='Validation loss')\n",
    "plt.legend(fontsize=15)\n",
    "plt.grid()\n",
    "plt.xlabel('Epochs', fontsize=15)\n",
    "plt.ylabel('Loss Fn valaues', fontsize=15)"
   ]
  },
  {
   "cell_type": "code",
   "execution_count": 109,
   "id": "2060e717",
   "metadata": {},
   "outputs": [
    {
     "data": {
      "text/plain": [
       "Text(0, 0.5, 'Accuracy')"
      ]
     },
     "execution_count": 109,
     "metadata": {},
     "output_type": "execute_result"
    },
    {
     "data": {
      "image/png": "[encoded data removed]",
      "text/plain": [
       "<Figure size 800x500 with 1 Axes>"
      ]
     },
     "metadata": {},
     "output_type": "display_data"
    }
   ],
   "source": [
    "import matplotlib.pyplot as plt\n",
    "\n",
    "plt.figure(figsize=(8,5))\n",
    "plt.plot(list(range(1,16)), h.history['accuracy'], label='Training Accuracy')\n",
    "plt.plot(list(range(1,16)), h.history['val_accuracy'], label='Validation Accuracy')\n",
    "plt.legend(fontsize=15)\n",
    "plt.grid()\n",
    "plt.xlabel('Epochs', fontsize=15)\n",
    "plt.ylabel('Accuracy', fontsize=15)\n"
   ]
  },
  {
   "cell_type": "code",
   "execution_count": 110,
   "id": "4ac733b3",
   "metadata": {},
   "outputs": [
    {
     "name": "stdout",
     "output_type": "stream",
     "text": [
      "Test Accuracy: 88.952023\n"
     ]
    }
   ],
   "source": [
    "# evaluate the model ONCe on the test set\n",
    "loss, acc = model.evaluate(Xtest, ytest, verbose=0)\n",
    "print('Test Accuracy: %f' % (acc*100))"
   ]
  },
  {
   "cell_type": "code",
   "execution_count": 111,
   "id": "e567cd97",
   "metadata": {},
   "outputs": [
    {
     "name": "stdout",
     "output_type": "stream",
     "text": [
      "Model: \"sequential_1\"\n",
      "_________________________________________________________________\n",
      " Layer (type)                Output Shape              Param #   \n",
      "=================================================================\n",
      " dense_3 (Dense)             (None, 64)                990400    \n",
      "                                                                 \n",
      " dropout_2 (Dropout)         (None, 64)                0         \n",
      "                                                                 \n",
      " dense_4 (Dense)             (None, 32)                2080      \n",
      "                                                                 \n",
      " dropout_3 (Dropout)         (None, 32)                0         \n",
      "                                                                 \n",
      " dense_5 (Dense)             (None, 1)                 33        \n",
      "                                                                 \n",
      "=================================================================\n",
      "Total params: 992513 (3.79 MB)\n",
      "Trainable params: 992513 (3.79 MB)\n",
      "Non-trainable params: 0 (0.00 Byte)\n",
      "_________________________________________________________________\n",
      "1 accuracy: 0.8806818127632141\n",
      "Model: \"sequential_2\"\n",
      "_________________________________________________________________\n",
      " Layer (type)                Output Shape              Param #   \n",
      "=================================================================\n",
      " dense_6 (Dense)             (None, 64)                990400    \n",
      "                                                                 \n",
      " dropout_4 (Dropout)         (None, 64)                0         \n",
      "                                                                 \n",
      " dense_7 (Dense)             (None, 32)                2080      \n",
      "                                                                 \n",
      " dropout_5 (Dropout)         (None, 32)                0         \n",
      "                                                                 \n",
      " dense_8 (Dense)             (None, 1)                 33        \n",
      "                                                                 \n",
      "=================================================================\n",
      "Total params: 992513 (3.79 MB)\n",
      "Trainable params: 992513 (3.79 MB)\n",
      "Non-trainable params: 0 (0.00 Byte)\n",
      "_________________________________________________________________\n",
      "2 accuracy: 0.8920454382896423\n",
      "Model: \"sequential_3\"\n",
      "_________________________________________________________________\n",
      " Layer (type)                Output Shape              Param #   \n",
      "=================================================================\n",
      " dense_9 (Dense)             (None, 64)                990400    \n",
      "                                                                 \n",
      " dropout_6 (Dropout)         (None, 64)                0         \n",
      "                                                                 \n",
      " dense_10 (Dense)            (None, 32)                2080      \n",
      "                                                                 \n",
      " dropout_7 (Dropout)         (None, 32)                0         \n",
      "                                                                 \n",
      " dense_11 (Dense)            (None, 1)                 33        \n",
      "                                                                 \n",
      "=================================================================\n",
      "Total params: 992513 (3.79 MB)\n",
      "Trainable params: 992513 (3.79 MB)\n",
      "Non-trainable params: 0 (0.00 Byte)\n",
      "_________________________________________________________________\n",
      "3 accuracy: 0.8945707082748413\n",
      "Model: \"sequential_4\"\n",
      "_________________________________________________________________\n",
      " Layer (type)                Output Shape              Param #   \n",
      "=================================================================\n",
      " dense_12 (Dense)            (None, 64)                990400    \n",
      "                                                                 \n",
      " dropout_8 (Dropout)         (None, 64)                0         \n",
      "                                                                 \n",
      " dense_13 (Dense)            (None, 32)                2080      \n",
      "                                                                 \n",
      " dropout_9 (Dropout)         (None, 32)                0         \n",
      "                                                                 \n",
      " dense_14 (Dense)            (None, 1)                 33        \n",
      "                                                                 \n",
      "=================================================================\n",
      "Total params: 992513 (3.79 MB)\n",
      "Trainable params: 992513 (3.79 MB)\n",
      "Non-trainable params: 0 (0.00 Byte)\n",
      "_________________________________________________________________\n",
      "4 accuracy: 0.8926767706871033\n",
      "Model: \"sequential_5\"\n",
      "_________________________________________________________________\n",
      " Layer (type)                Output Shape              Param #   \n",
      "=================================================================\n",
      " dense_15 (Dense)            (None, 64)                990400    \n",
      "                                                                 \n",
      " dropout_10 (Dropout)        (None, 64)                0         \n",
      "                                                                 \n",
      " dense_16 (Dense)            (None, 32)                2080      \n",
      "                                                                 \n",
      " dropout_11 (Dropout)        (None, 32)                0         \n",
      "                                                                 \n",
      " dense_17 (Dense)            (None, 1)                 33        \n",
      "                                                                 \n",
      "=================================================================\n",
      "Total params: 992513 (3.79 MB)\n",
      "Trainable params: 992513 (3.79 MB)\n",
      "Non-trainable params: 0 (0.00 Byte)\n",
      "_________________________________________________________________\n",
      "5 accuracy: 0.8901515007019043\n"
     ]
    }
   ],
   "source": [
    "# evaluate (Train & Test repeated 5 times)\n",
    "res = evaluate_model(Xtrain, ytrain, Xtest, ytest)"
   ]
  },
  {
   "cell_type": "code",
   "execution_count": 112,
   "id": "e88a4fd3",
   "metadata": {},
   "outputs": [],
   "source": [
    "#word embedding using keras embedding layer\n",
    "from numpy import array\n",
    "from keras.preprocessing.text import Tokenizer\n",
    "from keras.preprocessing.sequence import pad_sequences\n",
    "from keras.models import Sequential\n",
    "from keras.layers import Dense\n",
    "from keras.layers import Flatten\n",
    "from keras.layers import Embedding\n",
    "from keras.layers import Conv1D\n",
    "from keras.layers import MaxPooling1D"
   ]
  },
  {
   "cell_type": "code",
   "execution_count": 113,
   "id": "8d4f689e",
   "metadata": {},
   "outputs": [],
   "source": [
    "Xtrain, Xtest, ytrain, ytest = train_test_split(df['tweets_having_swords'], df['label'],  test_size=0.2, random_state=42)"
   ]
  },
  {
   "cell_type": "code",
   "execution_count": 114,
   "id": "8d489dbd",
   "metadata": {},
   "outputs": [
    {
     "data": {
      "text/plain": [
       "(6336,)"
      ]
     },
     "execution_count": 114,
     "metadata": {},
     "output_type": "execute_result"
    }
   ],
   "source": [
    "Xtrain.shape"
   ]
  },
  {
   "cell_type": "code",
   "execution_count": 115,
   "id": "ac9eeba5",
   "metadata": {},
   "outputs": [],
   "source": [
    "# integer encode and pad documents\n",
    "def encode_docs(tokenizer, max_length, docs):\n",
    "    # integer encode\n",
    "    encoded = tokenizer.texts_to_sequences(docs)\n",
    "    \n",
    "    # pad sequences\n",
    "    padded = pad_sequences(encoded, maxlen=max_length, padding='post')\n",
    "    return padded"
   ]
  },
  {
   "cell_type": "code",
   "execution_count": 116,
   "id": "74936321",
   "metadata": {},
   "outputs": [
    {
     "name": "stdout",
     "output_type": "stream",
     "text": [
      "Vocabulary size: 15474\n",
      "Maximum length: 37\n"
     ]
    }
   ],
   "source": [
    "# define vocabulary size\n",
    "vocab_size = len(tokenizer.word_index) + 1\n",
    "print('Vocabulary size: %d' % vocab_size)\n",
    "\n",
    "# calculate the maximum sequence length\n",
    "max_length = max([len(s.split()) for s in train_docs])\n",
    "print('Maximum length: %d' % max_length)"
   ]
  },
  {
   "cell_type": "code",
   "execution_count": 117,
   "id": "8af40587",
   "metadata": {},
   "outputs": [
    {
     "data": {
      "text/plain": [
       "array([[  134,   381,  4946, ...,  4958,  4959,     0],\n",
       "       [   44,   348,    76, ...,     0,     0,     0],\n",
       "       [  954,    54,     5, ...,     0,     0,     0],\n",
       "       ...,\n",
       "       [   10,   110,    10, ...,     0,     0,     0],\n",
       "       [   44, 13830,     1, ...,     0,     0,     0],\n",
       "       [   38,    62,    46, ...,     0,     0,     0]], dtype=int32)"
      ]
     },
     "execution_count": 117,
     "metadata": {},
     "output_type": "execute_result"
    }
   ],
   "source": [
    "tokenizer = create_tokenizer(Xtrain)\n",
    "padded_docs_train = encode_docs(tokenizer, max_length, Xtrain)\n",
    "padded_docs_train"
   ]
  },
  {
   "cell_type": "code",
   "execution_count": 118,
   "id": "bbfe71a3",
   "metadata": {},
   "outputs": [
    {
     "data": {
      "text/plain": [
       "(6336, 37)"
      ]
     },
     "execution_count": 118,
     "metadata": {},
     "output_type": "execute_result"
    }
   ],
   "source": [
    "padded_docs_train.shape"
   ]
  },
  {
   "cell_type": "code",
   "execution_count": 119,
   "id": "f4c5cdc2",
   "metadata": {},
   "outputs": [
    {
     "data": {
      "text/plain": [
       "(1584, 37)"
      ]
     },
     "execution_count": 119,
     "metadata": {},
     "output_type": "execute_result"
    }
   ],
   "source": [
    "tokenizer = create_tokenizer(Xtest)\n",
    "padded_docs_test = encode_docs(tokenizer, max_length, Xtest)\n",
    "padded_docs_test.shape"
   ]
  },
  {
   "cell_type": "code",
   "execution_count": 132,
   "id": "60c6bf14",
   "metadata": {},
   "outputs": [],
   "source": [
    "# define the model\n",
    "def define_model(vocab_size, max_length):\n",
    "    model = Sequential()\n",
    "    model.add(Embedding(vocab_size, 300, input_length=max_length))\n",
    "    \n",
    "    model.add(Conv1D(filters=64, kernel_size=3, activation='relu')) # this layer does feature extraction from the text\n",
    "    model.add(MaxPooling1D(pool_size=2)) # this layer concentrates to more imp. features\n",
    "    \n",
    "    model.add(Conv1D(filters=64, kernel_size=8, activation='relu')) # this layer does feature extraction from the text\n",
    "    model.add(MaxPooling1D(pool_size=2)) # this layer concentrates to more imp. features\n",
    "    \n",
    "    model.add(Flatten()) # feature matrix is collapsed into one dimension.\n",
    "    model.add(Dense(64, activation='relu', kernel_regularizer='l1'))  # hidden layer\n",
    "    model.add(Dropout(0.5))\n",
    "    model.add(Dense(32, activation='relu', kernel_regularizer='l1'))  # hidden layer\n",
    "    model.add(Dropout(0.5))\n",
    "    model.add(Dense(1, activation='sigmoid')) # output layer\n",
    "    \n",
    "    # compile network\n",
    "    model.compile(loss='binary_crossentropy', optimizer='adam', metrics=['accuracy'])\n",
    "    \n",
    "    # summarize defined model\n",
    "#     model.summary()\n",
    "#     plot_model(model, to_file='model2.png', show_shapes=True)\n",
    "    \n",
    "    return model"
   ]
  },
  {
   "cell_type": "code",
   "execution_count": 133,
   "id": "c8ea0a55",
   "metadata": {},
   "outputs": [
    {
     "name": "stdout",
     "output_type": "stream",
     "text": [
      "Model: \"sequential\"\n",
      "_________________________________________________________________\n",
      " Layer (type)                Output Shape              Param #   \n",
      "=================================================================\n",
      " embedding (Embedding)       (None, 37, 300)           4642200   \n",
      "                                                                 \n",
      " conv1d (Conv1D)             (None, 35, 64)            57664     \n",
      "                                                                 \n",
      " max_pooling1d (MaxPooling1  (None, 17, 64)            0         \n",
      " D)                                                              \n",
      "                                                                 \n",
      " conv1d_1 (Conv1D)           (None, 10, 64)            32832     \n",
      "                                                                 \n",
      " max_pooling1d_1 (MaxPoolin  (None, 5, 64)             0         \n",
      " g1D)                                                            \n",
      "                                                                 \n",
      " flatten (Flatten)           (None, 320)               0         \n",
      "                                                                 \n",
      " dense (Dense)               (None, 64)                20544     \n",
      "                                                                 \n",
      " dropout (Dropout)           (None, 64)                0         \n",
      "                                                                 \n",
      " dense_1 (Dense)             (None, 32)                2080      \n",
      "                                                                 \n",
      " dropout_1 (Dropout)         (None, 32)                0         \n",
      "                                                                 \n",
      " dense_2 (Dense)             (None, 1)                 33        \n",
      "                                                                 \n",
      "=================================================================\n",
      "Total params: 4755353 (18.14 MB)\n",
      "Trainable params: 4755353 (18.14 MB)\n",
      "Non-trainable params: 0 (0.00 Byte)\n",
      "_________________________________________________________________\n"
     ]
    }
   ],
   "source": [
    "# define model\n",
    "K.clear_session() \n",
    "model = define_model(vocab_size, max_length)\n",
    "model.summary()"
   ]
  },
  {
   "cell_type": "code",
   "execution_count": 134,
   "id": "5c4d652b",
   "metadata": {},
   "outputs": [
    {
     "name": "stdout",
     "output_type": "stream",
     "text": [
      "Epoch 1/10\n",
      "198/198 - 3s - loss: 4.4924 - accuracy: 0.7361 - val_loss: 1.0334 - val_accuracy: 0.7273 - 3s/epoch - 16ms/step\n",
      "Epoch 2/10\n",
      "198/198 - 3s - loss: 0.4335 - accuracy: 0.8441 - val_loss: 1.1267 - val_accuracy: 0.7102 - 3s/epoch - 14ms/step\n",
      "Epoch 3/10\n",
      "198/198 - 3s - loss: 0.3323 - accuracy: 0.9253 - val_loss: 1.3407 - val_accuracy: 0.7102 - 3s/epoch - 15ms/step\n",
      "Epoch 4/10\n",
      "198/198 - 3s - loss: 0.2874 - accuracy: 0.9381 - val_loss: 1.9764 - val_accuracy: 0.7140 - 3s/epoch - 15ms/step\n",
      "Epoch 5/10\n",
      "198/198 - 3s - loss: 0.2561 - accuracy: 0.9452 - val_loss: 2.6098 - val_accuracy: 0.7121 - 3s/epoch - 14ms/step\n",
      "Epoch 6/10\n",
      "198/198 - 3s - loss: 0.2336 - accuracy: 0.9511 - val_loss: 2.3561 - val_accuracy: 0.7165 - 3s/epoch - 14ms/step\n",
      "Epoch 7/10\n",
      "198/198 - 3s - loss: 0.2209 - accuracy: 0.9536 - val_loss: 2.8096 - val_accuracy: 0.7115 - 3s/epoch - 15ms/step\n",
      "Epoch 8/10\n",
      "198/198 - 3s - loss: 0.2082 - accuracy: 0.9549 - val_loss: 3.4494 - val_accuracy: 0.7077 - 3s/epoch - 14ms/step\n",
      "Epoch 9/10\n",
      "198/198 - 3s - loss: 0.1957 - accuracy: 0.9593 - val_loss: 3.7429 - val_accuracy: 0.7090 - 3s/epoch - 15ms/step\n",
      "Epoch 10/10\n",
      "198/198 - 3s - loss: 0.1917 - accuracy: 0.9582 - val_loss: 3.6878 - val_accuracy: 0.7115 - 3s/epoch - 14ms/step\n"
     ]
    },
    {
     "data": {
      "text/plain": [
       "<keras.src.callbacks.History at 0x2c4f08ee0>"
      ]
     },
     "execution_count": 134,
     "metadata": {},
     "output_type": "execute_result"
    }
   ],
   "source": [
    "\n",
    "# fit network\n",
    "model.fit(padded_docs_train, ytrain, epochs=10, verbose=2, validation_data=(padded_docs_test, ytest))"
   ]
  },
  {
   "cell_type": "code",
   "execution_count": 135,
   "id": "214cb108",
   "metadata": {},
   "outputs": [],
   "source": [
    "# save the model\n",
    "model.save('model_DL_WE.h5')"
   ]
  },
  {
   "cell_type": "code",
   "execution_count": 136,
   "id": "22096cdc",
   "metadata": {},
   "outputs": [
    {
     "name": "stdout",
     "output_type": "stream",
     "text": [
      "Test Accuracy: 71.148992\n"
     ]
    }
   ],
   "source": [
    "# evaluate the model ONCe on the test set\n",
    "loss, acc = model.evaluate(padded_docs_test, ytest, verbose=0)\n",
    "print('Test Accuracy: %f' % (acc*100))"
   ]
  },
  {
   "cell_type": "code",
   "execution_count": null,
   "id": "7536a1af",
   "metadata": {},
   "outputs": [],
   "source": []
  }
 ],
 "metadata": {
  "kernelspec": {
   "display_name": "Python 3 (ipykernel)",
   "language": "python",
   "name": "python3"
  },
  "language_info": {
   "codemirror_mode": {
    "name": "ipython",
    "version": 3
   },
   "file_extension": ".py",
   "mimetype": "text/x-python",
   "name": "python",
   "nbconvert_exporter": "python",
   "pygments_lexer": "ipython3",
   "version": "3.10.9"
  }
 },
 "nbformat": 4,
 "nbformat_minor": 5
}
